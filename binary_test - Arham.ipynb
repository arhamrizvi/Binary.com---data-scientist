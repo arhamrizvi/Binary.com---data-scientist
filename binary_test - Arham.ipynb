{
 "cells": [
  {
   "cell_type": "code",
   "execution_count": 1,
   "metadata": {},
   "outputs": [],
   "source": [
    "import sqlite3\n",
    "import pandas as pd\n",
    "from sqlite3 import Error\n",
    "import matplotlib.pyplot as plt\n",
    "import datetime\n",
    "import numpy as np"
   ]
  },
  {
   "cell_type": "markdown",
   "metadata": {},
   "source": [
    "# Connect to the database "
   ]
  },
  {
   "cell_type": "code",
   "execution_count": 2,
   "metadata": {},
   "outputs": [],
   "source": [
    "con = sqlite3.connect(\"company.db\")"
   ]
  },
  {
   "cell_type": "code",
   "execution_count": 3,
   "metadata": {},
   "outputs": [
    {
     "data": {
      "text/html": [
       "<div>\n",
       "<style scoped>\n",
       "    .dataframe tbody tr th:only-of-type {\n",
       "        vertical-align: middle;\n",
       "    }\n",
       "\n",
       "    .dataframe tbody tr th {\n",
       "        vertical-align: top;\n",
       "    }\n",
       "\n",
       "    .dataframe thead th {\n",
       "        text-align: right;\n",
       "    }\n",
       "</style>\n",
       "<table border=\"1\" class=\"dataframe\">\n",
       "  <thead>\n",
       "    <tr style=\"text-align: right;\">\n",
       "      <th></th>\n",
       "      <th>start_date</th>\n",
       "      <th>end_date</th>\n",
       "      <th>total_spend</th>\n",
       "      <th>country</th>\n",
       "    </tr>\n",
       "  </thead>\n",
       "  <tbody>\n",
       "    <tr>\n",
       "      <td>0</td>\n",
       "      <td>2017-01-03</td>\n",
       "      <td>2017-01-04</td>\n",
       "      <td>9935.67</td>\n",
       "      <td></td>\n",
       "    </tr>\n",
       "    <tr>\n",
       "      <td>1</td>\n",
       "      <td>2017-01-04</td>\n",
       "      <td>2017-01-06</td>\n",
       "      <td>17696.41</td>\n",
       "      <td>id</td>\n",
       "    </tr>\n",
       "    <tr>\n",
       "      <td>2</td>\n",
       "      <td>2017-01-08</td>\n",
       "      <td>2017-01-12</td>\n",
       "      <td>22541.26</td>\n",
       "      <td>in</td>\n",
       "    </tr>\n",
       "  </tbody>\n",
       "</table>\n",
       "</div>"
      ],
      "text/plain": [
       "   start_date    end_date  total_spend country\n",
       "0  2017-01-03  2017-01-04      9935.67        \n",
       "1  2017-01-04  2017-01-06     17696.41      id\n",
       "2  2017-01-08  2017-01-12     22541.26      in"
      ]
     },
     "metadata": {},
     "output_type": "display_data"
    },
    {
     "name": "stdout",
     "output_type": "stream",
     "text": [
      "<class 'pandas.core.frame.DataFrame'>\n",
      "RangeIndex: 43 entries, 0 to 42\n",
      "Data columns (total 4 columns):\n",
      "start_date     43 non-null object\n",
      "end_date       43 non-null object\n",
      "total_spend    43 non-null float64\n",
      "country        43 non-null object\n",
      "dtypes: float64(1), object(3)\n",
      "memory usage: 924.0+ bytes\n"
     ]
    }
   ],
   "source": [
    "df_camps = pd.read_sql_query(\"SELECT * from Campaigns\", con)\n",
    "display(df_camps.head(3))\n",
    "df_camps.info()"
   ]
  },
  {
   "cell_type": "code",
   "execution_count": 4,
   "metadata": {},
   "outputs": [
    {
     "data": {
      "text/html": [
       "<div>\n",
       "<style scoped>\n",
       "    .dataframe tbody tr th:only-of-type {\n",
       "        vertical-align: middle;\n",
       "    }\n",
       "\n",
       "    .dataframe tbody tr th {\n",
       "        vertical-align: top;\n",
       "    }\n",
       "\n",
       "    .dataframe thead th {\n",
       "        text-align: right;\n",
       "    }\n",
       "</style>\n",
       "<table border=\"1\" class=\"dataframe\">\n",
       "  <thead>\n",
       "    <tr style=\"text-align: right;\">\n",
       "      <th></th>\n",
       "      <th>account</th>\n",
       "      <th>type</th>\n",
       "      <th>residence</th>\n",
       "      <th>date_joined</th>\n",
       "      <th>indication_coupon</th>\n",
       "      <th>first_deposit_amount</th>\n",
       "      <th>first_deposit_date</th>\n",
       "      <th>first_transaction_amount</th>\n",
       "      <th>first_transaction_date</th>\n",
       "      <th>balance_amount</th>\n",
       "    </tr>\n",
       "  </thead>\n",
       "  <tbody>\n",
       "    <tr>\n",
       "      <td>0</td>\n",
       "      <td>5019</td>\n",
       "      <td>type_6</td>\n",
       "      <td>ua</td>\n",
       "      <td>2018-06-18</td>\n",
       "      <td>308</td>\n",
       "      <td>9090.91</td>\n",
       "      <td>2018-06-18</td>\n",
       "      <td>NaN</td>\n",
       "      <td>None</td>\n",
       "      <td>9090.91</td>\n",
       "    </tr>\n",
       "    <tr>\n",
       "      <td>1</td>\n",
       "      <td>3655</td>\n",
       "      <td>type_6</td>\n",
       "      <td>ve</td>\n",
       "      <td>2017-09-04</td>\n",
       "      <td>83</td>\n",
       "      <td>9090.91</td>\n",
       "      <td>2017-09-04</td>\n",
       "      <td>0.120000</td>\n",
       "      <td>2017-09-04</td>\n",
       "      <td>-191834.62</td>\n",
       "    </tr>\n",
       "    <tr>\n",
       "      <td>2</td>\n",
       "      <td>2809</td>\n",
       "      <td>type_6</td>\n",
       "      <td>br</td>\n",
       "      <td>2017-01-16</td>\n",
       "      <td>308</td>\n",
       "      <td>9090.91</td>\n",
       "      <td>2017-01-16</td>\n",
       "      <td>0.205556</td>\n",
       "      <td>2017-01-16</td>\n",
       "      <td>-3679886.14</td>\n",
       "    </tr>\n",
       "  </tbody>\n",
       "</table>\n",
       "</div>"
      ],
      "text/plain": [
       "   account    type residence date_joined  indication_coupon  \\\n",
       "0     5019  type_6        ua  2018-06-18                308   \n",
       "1     3655  type_6        ve  2017-09-04                 83   \n",
       "2     2809  type_6        br  2017-01-16                308   \n",
       "\n",
       "   first_deposit_amount first_deposit_date  first_transaction_amount  \\\n",
       "0               9090.91         2018-06-18                       NaN   \n",
       "1               9090.91         2017-09-04                  0.120000   \n",
       "2               9090.91         2017-01-16                  0.205556   \n",
       "\n",
       "  first_transaction_date  balance_amount  \n",
       "0                   None         9090.91  \n",
       "1             2017-09-04      -191834.62  \n",
       "2             2017-01-16     -3679886.14  "
      ]
     },
     "metadata": {},
     "output_type": "display_data"
    },
    {
     "name": "stdout",
     "output_type": "stream",
     "text": [
      "<class 'pandas.core.frame.DataFrame'>\n",
      "RangeIndex: 5000 entries, 0 to 4999\n",
      "Data columns (total 10 columns):\n",
      "account                     5000 non-null int64\n",
      "type                        5000 non-null object\n",
      "residence                   5000 non-null object\n",
      "date_joined                 5000 non-null object\n",
      "indication_coupon           5000 non-null int64\n",
      "first_deposit_amount        3959 non-null float64\n",
      "first_deposit_date          3964 non-null object\n",
      "first_transaction_amount    2606 non-null float64\n",
      "first_transaction_date      2608 non-null object\n",
      "balance_amount              3964 non-null float64\n",
      "dtypes: float64(3), int64(2), object(5)\n",
      "memory usage: 293.0+ KB\n"
     ]
    }
   ],
   "source": [
    "df_client = pd.read_sql_query(\"SELECT * from Clients\", con)\n",
    "display(df_client.head(3))\n",
    "df_client.info()"
   ]
  },
  {
   "cell_type": "code",
   "execution_count": 5,
   "metadata": {},
   "outputs": [
    {
     "data": {
      "text/html": [
       "<div>\n",
       "<style scoped>\n",
       "    .dataframe tbody tr th:only-of-type {\n",
       "        vertical-align: middle;\n",
       "    }\n",
       "\n",
       "    .dataframe tbody tr th {\n",
       "        vertical-align: top;\n",
       "    }\n",
       "\n",
       "    .dataframe thead th {\n",
       "        text-align: right;\n",
       "    }\n",
       "</style>\n",
       "<table border=\"1\" class=\"dataframe\">\n",
       "  <thead>\n",
       "    <tr style=\"text-align: right;\">\n",
       "      <th></th>\n",
       "      <th>transaction_date</th>\n",
       "      <th>account</th>\n",
       "      <th>total_buy</th>\n",
       "      <th>total_sell</th>\n",
       "      <th>total_deposits</th>\n",
       "      <th>total_withdrawals</th>\n",
       "      <th>count_contracts</th>\n",
       "      <th>count_deposits</th>\n",
       "      <th>count_withdrawals</th>\n",
       "    </tr>\n",
       "  </thead>\n",
       "  <tbody>\n",
       "    <tr>\n",
       "      <td>0</td>\n",
       "      <td>2018-05-25</td>\n",
       "      <td>1093</td>\n",
       "      <td>NaN</td>\n",
       "      <td>NaN</td>\n",
       "      <td>NaN</td>\n",
       "      <td>3.15</td>\n",
       "      <td>0</td>\n",
       "      <td>0</td>\n",
       "      <td>1</td>\n",
       "    </tr>\n",
       "    <tr>\n",
       "      <td>1</td>\n",
       "      <td>2017-03-18</td>\n",
       "      <td>1093</td>\n",
       "      <td>7.50</td>\n",
       "      <td>6.50</td>\n",
       "      <td>100.0</td>\n",
       "      <td>NaN</td>\n",
       "      <td>72</td>\n",
       "      <td>1</td>\n",
       "      <td>0</td>\n",
       "    </tr>\n",
       "    <tr>\n",
       "      <td>2</td>\n",
       "      <td>2017-03-17</td>\n",
       "      <td>1093</td>\n",
       "      <td>48.63</td>\n",
       "      <td>38.51</td>\n",
       "      <td>1000.0</td>\n",
       "      <td>NaN</td>\n",
       "      <td>93</td>\n",
       "      <td>2</td>\n",
       "      <td>0</td>\n",
       "    </tr>\n",
       "    <tr>\n",
       "      <td>3</td>\n",
       "      <td>2018-12-10</td>\n",
       "      <td>2622</td>\n",
       "      <td>36.29</td>\n",
       "      <td>32.99</td>\n",
       "      <td>NaN</td>\n",
       "      <td>NaN</td>\n",
       "      <td>44</td>\n",
       "      <td>0</td>\n",
       "      <td>0</td>\n",
       "    </tr>\n",
       "    <tr>\n",
       "      <td>4</td>\n",
       "      <td>2018-12-09</td>\n",
       "      <td>2622</td>\n",
       "      <td>101.19</td>\n",
       "      <td>102.56</td>\n",
       "      <td>NaN</td>\n",
       "      <td>NaN</td>\n",
       "      <td>76</td>\n",
       "      <td>0</td>\n",
       "      <td>0</td>\n",
       "    </tr>\n",
       "    <tr>\n",
       "      <td>...</td>\n",
       "      <td>...</td>\n",
       "      <td>...</td>\n",
       "      <td>...</td>\n",
       "      <td>...</td>\n",
       "      <td>...</td>\n",
       "      <td>...</td>\n",
       "      <td>...</td>\n",
       "      <td>...</td>\n",
       "      <td>...</td>\n",
       "    </tr>\n",
       "    <tr>\n",
       "      <td>36742</td>\n",
       "      <td>2017-12-19</td>\n",
       "      <td>5996</td>\n",
       "      <td>NaN</td>\n",
       "      <td>NaN</td>\n",
       "      <td>100000.0</td>\n",
       "      <td>NaN</td>\n",
       "      <td>0</td>\n",
       "      <td>1</td>\n",
       "      <td>0</td>\n",
       "    </tr>\n",
       "    <tr>\n",
       "      <td>36743</td>\n",
       "      <td>2018-02-01</td>\n",
       "      <td>5997</td>\n",
       "      <td>NaN</td>\n",
       "      <td>NaN</td>\n",
       "      <td>100000.0</td>\n",
       "      <td>NaN</td>\n",
       "      <td>0</td>\n",
       "      <td>1</td>\n",
       "      <td>0</td>\n",
       "    </tr>\n",
       "    <tr>\n",
       "      <td>36744</td>\n",
       "      <td>2018-03-26</td>\n",
       "      <td>5998</td>\n",
       "      <td>13774.37</td>\n",
       "      <td>10881.00</td>\n",
       "      <td>100000.0</td>\n",
       "      <td>NaN</td>\n",
       "      <td>2</td>\n",
       "      <td>1</td>\n",
       "      <td>0</td>\n",
       "    </tr>\n",
       "    <tr>\n",
       "      <td>36745</td>\n",
       "      <td>2018-04-13</td>\n",
       "      <td>5999</td>\n",
       "      <td>21863.37</td>\n",
       "      <td>22540.64</td>\n",
       "      <td>NaN</td>\n",
       "      <td>NaN</td>\n",
       "      <td>3</td>\n",
       "      <td>0</td>\n",
       "      <td>0</td>\n",
       "    </tr>\n",
       "    <tr>\n",
       "      <td>36746</td>\n",
       "      <td>2018-04-09</td>\n",
       "      <td>5999</td>\n",
       "      <td>100000.00</td>\n",
       "      <td>100000.00</td>\n",
       "      <td>100000.0</td>\n",
       "      <td>NaN</td>\n",
       "      <td>23</td>\n",
       "      <td>1</td>\n",
       "      <td>0</td>\n",
       "    </tr>\n",
       "  </tbody>\n",
       "</table>\n",
       "<p>36747 rows × 9 columns</p>\n",
       "</div>"
      ],
      "text/plain": [
       "      transaction_date  account  total_buy  total_sell  total_deposits  \\\n",
       "0           2018-05-25     1093        NaN         NaN             NaN   \n",
       "1           2017-03-18     1093       7.50        6.50           100.0   \n",
       "2           2017-03-17     1093      48.63       38.51          1000.0   \n",
       "3           2018-12-10     2622      36.29       32.99             NaN   \n",
       "4           2018-12-09     2622     101.19      102.56             NaN   \n",
       "...                ...      ...        ...         ...             ...   \n",
       "36742       2017-12-19     5996        NaN         NaN        100000.0   \n",
       "36743       2018-02-01     5997        NaN         NaN        100000.0   \n",
       "36744       2018-03-26     5998   13774.37    10881.00        100000.0   \n",
       "36745       2018-04-13     5999   21863.37    22540.64             NaN   \n",
       "36746       2018-04-09     5999  100000.00   100000.00        100000.0   \n",
       "\n",
       "       total_withdrawals  count_contracts  count_deposits  count_withdrawals  \n",
       "0                   3.15                0               0                  1  \n",
       "1                    NaN               72               1                  0  \n",
       "2                    NaN               93               2                  0  \n",
       "3                    NaN               44               0                  0  \n",
       "4                    NaN               76               0                  0  \n",
       "...                  ...              ...             ...                ...  \n",
       "36742                NaN                0               1                  0  \n",
       "36743                NaN                0               1                  0  \n",
       "36744                NaN                2               1                  0  \n",
       "36745                NaN                3               0                  0  \n",
       "36746                NaN               23               1                  0  \n",
       "\n",
       "[36747 rows x 9 columns]"
      ]
     },
     "metadata": {},
     "output_type": "display_data"
    },
    {
     "name": "stdout",
     "output_type": "stream",
     "text": [
      "<class 'pandas.core.frame.DataFrame'>\n",
      "RangeIndex: 36747 entries, 0 to 36746\n",
      "Data columns (total 9 columns):\n",
      "transaction_date     36747 non-null object\n",
      "account              36747 non-null int64\n",
      "total_buy            33169 non-null float64\n",
      "total_sell           32921 non-null float64\n",
      "total_deposits       8242 non-null float64\n",
      "total_withdrawals    16685 non-null float64\n",
      "count_contracts      36747 non-null int64\n",
      "count_deposits       36747 non-null int64\n",
      "count_withdrawals    36747 non-null int64\n",
      "dtypes: float64(4), int64(4), object(1)\n",
      "memory usage: 2.4+ MB\n"
     ]
    }
   ],
   "source": [
    "df_tran = pd.read_sql_query(\"SELECT * from Transactions\", con)\n",
    "display(df_tran)\n",
    "df_tran.info()"
   ]
  },
  {
   "cell_type": "markdown",
   "metadata": {},
   "source": [
    "# Pre-processing"
   ]
  },
  {
   "cell_type": "markdown",
   "metadata": {},
   "source": [
    "### Pre-process clients table"
   ]
  },
  {
   "cell_type": "markdown",
   "metadata": {},
   "source": [
    "Prepocessing the client's table involved:\n",
    "1. Replacing the ' ' values in the 'residence' column to 'unknown'\n",
    "2. Replacing the missing (NAN) 'amount' values with 0\n",
    "3. Changing the type of dates to 'DATETIME'"
   ]
  },
  {
   "cell_type": "code",
   "execution_count": 6,
   "metadata": {},
   "outputs": [
    {
     "data": {
      "text/html": [
       "<div>\n",
       "<style scoped>\n",
       "    .dataframe tbody tr th:only-of-type {\n",
       "        vertical-align: middle;\n",
       "    }\n",
       "\n",
       "    .dataframe tbody tr th {\n",
       "        vertical-align: top;\n",
       "    }\n",
       "\n",
       "    .dataframe thead th {\n",
       "        text-align: right;\n",
       "    }\n",
       "</style>\n",
       "<table border=\"1\" class=\"dataframe\">\n",
       "  <thead>\n",
       "    <tr style=\"text-align: right;\">\n",
       "      <th></th>\n",
       "      <th>account</th>\n",
       "      <th>indication_coupon</th>\n",
       "      <th>first_deposit_amount</th>\n",
       "      <th>first_transaction_amount</th>\n",
       "      <th>balance_amount</th>\n",
       "    </tr>\n",
       "  </thead>\n",
       "  <tbody>\n",
       "    <tr>\n",
       "      <td>count</td>\n",
       "      <td>5000.000000</td>\n",
       "      <td>5000.000000</td>\n",
       "      <td>3959.000000</td>\n",
       "      <td>2606.000000</td>\n",
       "      <td>3.964000e+03</td>\n",
       "    </tr>\n",
       "    <tr>\n",
       "      <td>mean</td>\n",
       "      <td>3499.500000</td>\n",
       "      <td>280.059000</td>\n",
       "      <td>7972.617336</td>\n",
       "      <td>62.299371</td>\n",
       "      <td>-3.614863e+05</td>\n",
       "    </tr>\n",
       "    <tr>\n",
       "      <td>std</td>\n",
       "      <td>1443.520003</td>\n",
       "      <td>72.958655</td>\n",
       "      <td>5898.371677</td>\n",
       "      <td>296.155525</td>\n",
       "      <td>1.812420e+06</td>\n",
       "    </tr>\n",
       "    <tr>\n",
       "      <td>min</td>\n",
       "      <td>1000.000000</td>\n",
       "      <td>0.000000</td>\n",
       "      <td>1.390000</td>\n",
       "      <td>0.070000</td>\n",
       "      <td>-2.905925e+07</td>\n",
       "    </tr>\n",
       "    <tr>\n",
       "      <td>25%</td>\n",
       "      <td>2249.750000</td>\n",
       "      <td>308.000000</td>\n",
       "      <td>9090.910000</td>\n",
       "      <td>0.520000</td>\n",
       "      <td>-9.090909e+04</td>\n",
       "    </tr>\n",
       "    <tr>\n",
       "      <td>50%</td>\n",
       "      <td>3499.500000</td>\n",
       "      <td>308.000000</td>\n",
       "      <td>9090.910000</td>\n",
       "      <td>1.550000</td>\n",
       "      <td>1.964535e+03</td>\n",
       "    </tr>\n",
       "    <tr>\n",
       "      <td>75%</td>\n",
       "      <td>4749.250000</td>\n",
       "      <td>308.000000</td>\n",
       "      <td>9090.910000</td>\n",
       "      <td>9.089630</td>\n",
       "      <td>9.090910e+03</td>\n",
       "    </tr>\n",
       "    <tr>\n",
       "      <td>max</td>\n",
       "      <td>5999.000000</td>\n",
       "      <td>308.000000</td>\n",
       "      <td>100000.000000</td>\n",
       "      <td>6887.185000</td>\n",
       "      <td>3.551842e+05</td>\n",
       "    </tr>\n",
       "  </tbody>\n",
       "</table>\n",
       "</div>"
      ],
      "text/plain": [
       "           account  indication_coupon  first_deposit_amount  \\\n",
       "count  5000.000000        5000.000000           3959.000000   \n",
       "mean   3499.500000         280.059000           7972.617336   \n",
       "std    1443.520003          72.958655           5898.371677   \n",
       "min    1000.000000           0.000000              1.390000   \n",
       "25%    2249.750000         308.000000           9090.910000   \n",
       "50%    3499.500000         308.000000           9090.910000   \n",
       "75%    4749.250000         308.000000           9090.910000   \n",
       "max    5999.000000         308.000000         100000.000000   \n",
       "\n",
       "       first_transaction_amount  balance_amount  \n",
       "count               2606.000000    3.964000e+03  \n",
       "mean                  62.299371   -3.614863e+05  \n",
       "std                  296.155525    1.812420e+06  \n",
       "min                    0.070000   -2.905925e+07  \n",
       "25%                    0.520000   -9.090909e+04  \n",
       "50%                    1.550000    1.964535e+03  \n",
       "75%                    9.089630    9.090910e+03  \n",
       "max                 6887.185000    3.551842e+05  "
      ]
     },
     "execution_count": 6,
     "metadata": {},
     "output_type": "execute_result"
    }
   ],
   "source": [
    "df_client.describe()"
   ]
  },
  {
   "cell_type": "code",
   "execution_count": 7,
   "metadata": {},
   "outputs": [],
   "source": [
    "df_client.residence.replace([''],['unknown'], inplace = True)"
   ]
  },
  {
   "cell_type": "code",
   "execution_count": 8,
   "metadata": {
    "scrolled": true
   },
   "outputs": [
    {
     "name": "stdout",
     "output_type": "stream",
     "text": [
      "Total clients which do not contribute to the platform: 1041\n",
      "% of clients which do not contribute to the platform 20.82\n"
     ]
    }
   ],
   "source": [
    "null_clients = df_client[df_client['first_deposit_amount'].isna()]\n",
    "print('Total clients which do not contribute to the platform:', len(null_clients))\n",
    "print('% of clients which do not contribute to the platform', len(null_clients) / len(df_client) * 100)"
   ]
  },
  {
   "cell_type": "code",
   "execution_count": 9,
   "metadata": {},
   "outputs": [],
   "source": [
    "df_client['first_deposit_amount'].fillna(0,inplace=True)\n",
    "df_client['first_transaction_amount'].fillna(0,inplace=True)\n",
    "df_client['balance_amount'].fillna(0,inplace=True)"
   ]
  },
  {
   "cell_type": "code",
   "execution_count": 10,
   "metadata": {},
   "outputs": [
    {
     "data": {
      "text/plain": [
       "account                        0\n",
       "type                           0\n",
       "residence                      0\n",
       "date_joined                    0\n",
       "indication_coupon              0\n",
       "first_deposit_amount           0\n",
       "first_deposit_date          1036\n",
       "first_transaction_amount       0\n",
       "first_transaction_date      2392\n",
       "balance_amount                 0\n",
       "dtype: int64"
      ]
     },
     "execution_count": 10,
     "metadata": {},
     "output_type": "execute_result"
    }
   ],
   "source": [
    "df_client.isna().sum()"
   ]
  },
  {
   "cell_type": "code",
   "execution_count": 11,
   "metadata": {},
   "outputs": [],
   "source": [
    "df_client['first_deposit_date'] = pd.to_datetime(df_client['first_deposit_date'])\n",
    "df_client['first_transaction_date'] = pd.to_datetime(df_client['first_transaction_date'])\n",
    "df_client['date_joined'] = pd.to_datetime(df_client['date_joined'])"
   ]
  },
  {
   "cell_type": "code",
   "execution_count": 12,
   "metadata": {},
   "outputs": [
    {
     "data": {
      "text/plain": [
       "137"
      ]
     },
     "execution_count": 12,
     "metadata": {},
     "output_type": "execute_result"
    }
   ],
   "source": [
    "df_client['residence'].nunique()"
   ]
  },
  {
   "cell_type": "code",
   "execution_count": 13,
   "metadata": {},
   "outputs": [
    {
     "data": {
      "text/plain": [
       "id         1667\n",
       "br          438\n",
       "unknown     302\n",
       "ng          284\n",
       "ru          274\n",
       "vn          170\n",
       "in          141\n",
       "gb          134\n",
       "za          105\n",
       "lk           97\n",
       "Name: residence, dtype: int64"
      ]
     },
     "execution_count": 13,
     "metadata": {},
     "output_type": "execute_result"
    }
   ],
   "source": [
    "most_clients = df_client['residence'].value_counts()\n",
    "most_clients.nlargest(10)"
   ]
  },
  {
   "cell_type": "code",
   "execution_count": 14,
   "metadata": {},
   "outputs": [
    {
     "data": {
      "text/plain": [
       "308    4229\n",
       "41       61\n",
       "116      48\n",
       "36       20\n",
       "181      18\n",
       "Name: indication_coupon, dtype: int64"
      ]
     },
     "execution_count": 14,
     "metadata": {},
     "output_type": "execute_result"
    }
   ],
   "source": [
    "df_client['indication_coupon'].value_counts().nlargest()"
   ]
  },
  {
   "cell_type": "markdown",
   "metadata": {},
   "source": [
    "### Pre-process campaigns table "
   ]
  },
  {
   "cell_type": "markdown",
   "metadata": {},
   "source": [
    "Preprocessing of campaigns table involved:\n",
    "1. Changing the type of dates to 'DATETIME'\n",
    "2. Calculating the number of days a campaign took place and storing it in a new column"
   ]
  },
  {
   "cell_type": "code",
   "execution_count": 15,
   "metadata": {},
   "outputs": [
    {
     "data": {
      "text/html": [
       "<div>\n",
       "<style scoped>\n",
       "    .dataframe tbody tr th:only-of-type {\n",
       "        vertical-align: middle;\n",
       "    }\n",
       "\n",
       "    .dataframe tbody tr th {\n",
       "        vertical-align: top;\n",
       "    }\n",
       "\n",
       "    .dataframe thead th {\n",
       "        text-align: right;\n",
       "    }\n",
       "</style>\n",
       "<table border=\"1\" class=\"dataframe\">\n",
       "  <thead>\n",
       "    <tr style=\"text-align: right;\">\n",
       "      <th></th>\n",
       "      <th>total_spend</th>\n",
       "    </tr>\n",
       "  </thead>\n",
       "  <tbody>\n",
       "    <tr>\n",
       "      <td>count</td>\n",
       "      <td>43.000000</td>\n",
       "    </tr>\n",
       "    <tr>\n",
       "      <td>mean</td>\n",
       "      <td>12004.853023</td>\n",
       "    </tr>\n",
       "    <tr>\n",
       "      <td>std</td>\n",
       "      <td>6862.693494</td>\n",
       "    </tr>\n",
       "    <tr>\n",
       "      <td>min</td>\n",
       "      <td>745.890000</td>\n",
       "    </tr>\n",
       "    <tr>\n",
       "      <td>25%</td>\n",
       "      <td>7499.460000</td>\n",
       "    </tr>\n",
       "    <tr>\n",
       "      <td>50%</td>\n",
       "      <td>12463.880000</td>\n",
       "    </tr>\n",
       "    <tr>\n",
       "      <td>75%</td>\n",
       "      <td>16249.620000</td>\n",
       "    </tr>\n",
       "    <tr>\n",
       "      <td>max</td>\n",
       "      <td>29866.080000</td>\n",
       "    </tr>\n",
       "  </tbody>\n",
       "</table>\n",
       "</div>"
      ],
      "text/plain": [
       "        total_spend\n",
       "count     43.000000\n",
       "mean   12004.853023\n",
       "std     6862.693494\n",
       "min      745.890000\n",
       "25%     7499.460000\n",
       "50%    12463.880000\n",
       "75%    16249.620000\n",
       "max    29866.080000"
      ]
     },
     "execution_count": 15,
     "metadata": {},
     "output_type": "execute_result"
    }
   ],
   "source": [
    "df_camps.describe()"
   ]
  },
  {
   "cell_type": "code",
   "execution_count": 16,
   "metadata": {},
   "outputs": [],
   "source": [
    "df_camps['start_date'] = pd.to_datetime(df_camps['start_date'])\n",
    "df_camps['end_date'] = pd.to_datetime(df_camps['end_date'])"
   ]
  },
  {
   "cell_type": "code",
   "execution_count": 17,
   "metadata": {},
   "outputs": [],
   "source": [
    "df_camps['no_of_days'] = df_camps['end_date'] - df_camps['start_date']"
   ]
  },
  {
   "cell_type": "code",
   "execution_count": 18,
   "metadata": {},
   "outputs": [],
   "source": [
    "df_camps.country.replace([''],['global'], inplace = True)"
   ]
  },
  {
   "cell_type": "code",
   "execution_count": 19,
   "metadata": {},
   "outputs": [
    {
     "data": {
      "text/html": [
       "<div>\n",
       "<style scoped>\n",
       "    .dataframe tbody tr th:only-of-type {\n",
       "        vertical-align: middle;\n",
       "    }\n",
       "\n",
       "    .dataframe tbody tr th {\n",
       "        vertical-align: top;\n",
       "    }\n",
       "\n",
       "    .dataframe thead th {\n",
       "        text-align: right;\n",
       "    }\n",
       "</style>\n",
       "<table border=\"1\" class=\"dataframe\">\n",
       "  <thead>\n",
       "    <tr style=\"text-align: right;\">\n",
       "      <th></th>\n",
       "      <th>start_date</th>\n",
       "      <th>end_date</th>\n",
       "      <th>total_spend</th>\n",
       "      <th>country</th>\n",
       "      <th>no_of_days</th>\n",
       "    </tr>\n",
       "  </thead>\n",
       "  <tbody>\n",
       "    <tr>\n",
       "      <td>0</td>\n",
       "      <td>2017-01-03</td>\n",
       "      <td>2017-01-04</td>\n",
       "      <td>9935.67</td>\n",
       "      <td>global</td>\n",
       "      <td>1 days</td>\n",
       "    </tr>\n",
       "    <tr>\n",
       "      <td>1</td>\n",
       "      <td>2017-01-04</td>\n",
       "      <td>2017-01-06</td>\n",
       "      <td>17696.41</td>\n",
       "      <td>id</td>\n",
       "      <td>2 days</td>\n",
       "    </tr>\n",
       "    <tr>\n",
       "      <td>2</td>\n",
       "      <td>2017-01-08</td>\n",
       "      <td>2017-01-12</td>\n",
       "      <td>22541.26</td>\n",
       "      <td>in</td>\n",
       "      <td>4 days</td>\n",
       "    </tr>\n",
       "    <tr>\n",
       "      <td>3</td>\n",
       "      <td>2017-02-13</td>\n",
       "      <td>2017-02-18</td>\n",
       "      <td>745.89</td>\n",
       "      <td>ng</td>\n",
       "      <td>5 days</td>\n",
       "    </tr>\n",
       "    <tr>\n",
       "      <td>4</td>\n",
       "      <td>2017-05-02</td>\n",
       "      <td>2017-05-03</td>\n",
       "      <td>15338.78</td>\n",
       "      <td>id</td>\n",
       "      <td>1 days</td>\n",
       "    </tr>\n",
       "    <tr>\n",
       "      <td>5</td>\n",
       "      <td>2017-05-20</td>\n",
       "      <td>2017-05-23</td>\n",
       "      <td>7976.25</td>\n",
       "      <td>gh</td>\n",
       "      <td>3 days</td>\n",
       "    </tr>\n",
       "    <tr>\n",
       "      <td>6</td>\n",
       "      <td>2017-05-25</td>\n",
       "      <td>2017-05-28</td>\n",
       "      <td>7102.54</td>\n",
       "      <td>ru</td>\n",
       "      <td>3 days</td>\n",
       "    </tr>\n",
       "    <tr>\n",
       "      <td>7</td>\n",
       "      <td>2017-06-20</td>\n",
       "      <td>2017-06-20</td>\n",
       "      <td>14269.43</td>\n",
       "      <td>id</td>\n",
       "      <td>0 days</td>\n",
       "    </tr>\n",
       "    <tr>\n",
       "      <td>8</td>\n",
       "      <td>2017-06-26</td>\n",
       "      <td>2017-06-30</td>\n",
       "      <td>3140.96</td>\n",
       "      <td>ru</td>\n",
       "      <td>4 days</td>\n",
       "    </tr>\n",
       "    <tr>\n",
       "      <td>9</td>\n",
       "      <td>2017-06-28</td>\n",
       "      <td>2017-06-28</td>\n",
       "      <td>9909.73</td>\n",
       "      <td>ua</td>\n",
       "      <td>0 days</td>\n",
       "    </tr>\n",
       "    <tr>\n",
       "      <td>10</td>\n",
       "      <td>2017-07-23</td>\n",
       "      <td>2017-07-25</td>\n",
       "      <td>1683.11</td>\n",
       "      <td>de</td>\n",
       "      <td>2 days</td>\n",
       "    </tr>\n",
       "    <tr>\n",
       "      <td>11</td>\n",
       "      <td>2017-07-26</td>\n",
       "      <td>2017-07-27</td>\n",
       "      <td>15395.67</td>\n",
       "      <td>co</td>\n",
       "      <td>1 days</td>\n",
       "    </tr>\n",
       "    <tr>\n",
       "      <td>12</td>\n",
       "      <td>2017-07-27</td>\n",
       "      <td>2017-07-30</td>\n",
       "      <td>26143.24</td>\n",
       "      <td>id</td>\n",
       "      <td>3 days</td>\n",
       "    </tr>\n",
       "    <tr>\n",
       "      <td>13</td>\n",
       "      <td>2017-08-08</td>\n",
       "      <td>2017-08-10</td>\n",
       "      <td>10094.66</td>\n",
       "      <td>ca</td>\n",
       "      <td>2 days</td>\n",
       "    </tr>\n",
       "    <tr>\n",
       "      <td>14</td>\n",
       "      <td>2017-08-31</td>\n",
       "      <td>2017-09-04</td>\n",
       "      <td>7896.38</td>\n",
       "      <td>gh</td>\n",
       "      <td>4 days</td>\n",
       "    </tr>\n",
       "    <tr>\n",
       "      <td>15</td>\n",
       "      <td>2017-09-01</td>\n",
       "      <td>2017-09-05</td>\n",
       "      <td>13731.69</td>\n",
       "      <td>id</td>\n",
       "      <td>4 days</td>\n",
       "    </tr>\n",
       "    <tr>\n",
       "      <td>16</td>\n",
       "      <td>2017-09-09</td>\n",
       "      <td>2017-09-11</td>\n",
       "      <td>29866.08</td>\n",
       "      <td>ru</td>\n",
       "      <td>2 days</td>\n",
       "    </tr>\n",
       "    <tr>\n",
       "      <td>17</td>\n",
       "      <td>2017-09-10</td>\n",
       "      <td>2017-09-12</td>\n",
       "      <td>5109.46</td>\n",
       "      <td>br</td>\n",
       "      <td>2 days</td>\n",
       "    </tr>\n",
       "    <tr>\n",
       "      <td>18</td>\n",
       "      <td>2017-09-21</td>\n",
       "      <td>2017-09-21</td>\n",
       "      <td>2677.16</td>\n",
       "      <td>za</td>\n",
       "      <td>0 days</td>\n",
       "    </tr>\n",
       "    <tr>\n",
       "      <td>19</td>\n",
       "      <td>2017-09-23</td>\n",
       "      <td>2017-09-25</td>\n",
       "      <td>15065.68</td>\n",
       "      <td>global</td>\n",
       "      <td>2 days</td>\n",
       "    </tr>\n",
       "    <tr>\n",
       "      <td>20</td>\n",
       "      <td>2017-09-28</td>\n",
       "      <td>2017-09-28</td>\n",
       "      <td>10500.64</td>\n",
       "      <td>ng</td>\n",
       "      <td>0 days</td>\n",
       "    </tr>\n",
       "    <tr>\n",
       "      <td>21</td>\n",
       "      <td>2017-10-02</td>\n",
       "      <td>2017-10-03</td>\n",
       "      <td>23935.75</td>\n",
       "      <td>br</td>\n",
       "      <td>1 days</td>\n",
       "    </tr>\n",
       "    <tr>\n",
       "      <td>22</td>\n",
       "      <td>2017-10-13</td>\n",
       "      <td>2017-10-15</td>\n",
       "      <td>12718.82</td>\n",
       "      <td>ie</td>\n",
       "      <td>2 days</td>\n",
       "    </tr>\n",
       "    <tr>\n",
       "      <td>23</td>\n",
       "      <td>2017-11-20</td>\n",
       "      <td>2017-11-22</td>\n",
       "      <td>5491.55</td>\n",
       "      <td>id</td>\n",
       "      <td>2 days</td>\n",
       "    </tr>\n",
       "    <tr>\n",
       "      <td>24</td>\n",
       "      <td>2017-11-24</td>\n",
       "      <td>2017-11-26</td>\n",
       "      <td>16456.49</td>\n",
       "      <td>id</td>\n",
       "      <td>2 days</td>\n",
       "    </tr>\n",
       "    <tr>\n",
       "      <td>25</td>\n",
       "      <td>2017-11-24</td>\n",
       "      <td>2017-11-28</td>\n",
       "      <td>15020.37</td>\n",
       "      <td>id</td>\n",
       "      <td>4 days</td>\n",
       "    </tr>\n",
       "    <tr>\n",
       "      <td>26</td>\n",
       "      <td>2018-01-19</td>\n",
       "      <td>2018-01-22</td>\n",
       "      <td>5533.58</td>\n",
       "      <td>id</td>\n",
       "      <td>3 days</td>\n",
       "    </tr>\n",
       "    <tr>\n",
       "      <td>27</td>\n",
       "      <td>2018-01-30</td>\n",
       "      <td>2018-01-31</td>\n",
       "      <td>11466.04</td>\n",
       "      <td>id</td>\n",
       "      <td>1 days</td>\n",
       "    </tr>\n",
       "    <tr>\n",
       "      <td>28</td>\n",
       "      <td>2018-02-01</td>\n",
       "      <td>2018-02-05</td>\n",
       "      <td>12522.87</td>\n",
       "      <td>ng</td>\n",
       "      <td>4 days</td>\n",
       "    </tr>\n",
       "    <tr>\n",
       "      <td>29</td>\n",
       "      <td>2018-02-07</td>\n",
       "      <td>2018-02-10</td>\n",
       "      <td>18207.38</td>\n",
       "      <td>ph</td>\n",
       "      <td>3 days</td>\n",
       "    </tr>\n",
       "    <tr>\n",
       "      <td>30</td>\n",
       "      <td>2018-03-02</td>\n",
       "      <td>2018-03-06</td>\n",
       "      <td>16042.75</td>\n",
       "      <td>br</td>\n",
       "      <td>4 days</td>\n",
       "    </tr>\n",
       "    <tr>\n",
       "      <td>31</td>\n",
       "      <td>2018-03-05</td>\n",
       "      <td>2018-03-07</td>\n",
       "      <td>12906.71</td>\n",
       "      <td>id</td>\n",
       "      <td>2 days</td>\n",
       "    </tr>\n",
       "    <tr>\n",
       "      <td>32</td>\n",
       "      <td>2018-03-12</td>\n",
       "      <td>2018-03-15</td>\n",
       "      <td>9192.02</td>\n",
       "      <td>id</td>\n",
       "      <td>3 days</td>\n",
       "    </tr>\n",
       "    <tr>\n",
       "      <td>33</td>\n",
       "      <td>2018-04-11</td>\n",
       "      <td>2018-04-13</td>\n",
       "      <td>19928.51</td>\n",
       "      <td>id</td>\n",
       "      <td>2 days</td>\n",
       "    </tr>\n",
       "    <tr>\n",
       "      <td>34</td>\n",
       "      <td>2018-05-23</td>\n",
       "      <td>2018-05-23</td>\n",
       "      <td>16954.21</td>\n",
       "      <td>gb</td>\n",
       "      <td>0 days</td>\n",
       "    </tr>\n",
       "    <tr>\n",
       "      <td>35</td>\n",
       "      <td>2018-06-04</td>\n",
       "      <td>2018-06-08</td>\n",
       "      <td>11581.60</td>\n",
       "      <td>ng</td>\n",
       "      <td>4 days</td>\n",
       "    </tr>\n",
       "    <tr>\n",
       "      <td>36</td>\n",
       "      <td>2018-06-24</td>\n",
       "      <td>2018-06-26</td>\n",
       "      <td>3050.58</td>\n",
       "      <td>ma</td>\n",
       "      <td>2 days</td>\n",
       "    </tr>\n",
       "    <tr>\n",
       "      <td>37</td>\n",
       "      <td>2018-06-26</td>\n",
       "      <td>2018-06-28</td>\n",
       "      <td>7974.37</td>\n",
       "      <td>mg</td>\n",
       "      <td>2 days</td>\n",
       "    </tr>\n",
       "    <tr>\n",
       "      <td>38</td>\n",
       "      <td>2018-06-26</td>\n",
       "      <td>2018-06-28</td>\n",
       "      <td>12463.88</td>\n",
       "      <td>it</td>\n",
       "      <td>2 days</td>\n",
       "    </tr>\n",
       "    <tr>\n",
       "      <td>39</td>\n",
       "      <td>2018-07-29</td>\n",
       "      <td>2018-08-02</td>\n",
       "      <td>16661.93</td>\n",
       "      <td>py</td>\n",
       "      <td>4 days</td>\n",
       "    </tr>\n",
       "    <tr>\n",
       "      <td>40</td>\n",
       "      <td>2018-10-03</td>\n",
       "      <td>2018-10-04</td>\n",
       "      <td>1745.10</td>\n",
       "      <td>id</td>\n",
       "      <td>1 days</td>\n",
       "    </tr>\n",
       "    <tr>\n",
       "      <td>41</td>\n",
       "      <td>2018-10-29</td>\n",
       "      <td>2018-11-01</td>\n",
       "      <td>2141.17</td>\n",
       "      <td>br</td>\n",
       "      <td>3 days</td>\n",
       "    </tr>\n",
       "    <tr>\n",
       "      <td>42</td>\n",
       "      <td>2018-10-31</td>\n",
       "      <td>2018-11-02</td>\n",
       "      <td>17392.31</td>\n",
       "      <td>ua</td>\n",
       "      <td>2 days</td>\n",
       "    </tr>\n",
       "  </tbody>\n",
       "</table>\n",
       "</div>"
      ],
      "text/plain": [
       "   start_date   end_date  total_spend country no_of_days\n",
       "0  2017-01-03 2017-01-04      9935.67  global     1 days\n",
       "1  2017-01-04 2017-01-06     17696.41      id     2 days\n",
       "2  2017-01-08 2017-01-12     22541.26      in     4 days\n",
       "3  2017-02-13 2017-02-18       745.89      ng     5 days\n",
       "4  2017-05-02 2017-05-03     15338.78      id     1 days\n",
       "5  2017-05-20 2017-05-23      7976.25      gh     3 days\n",
       "6  2017-05-25 2017-05-28      7102.54      ru     3 days\n",
       "7  2017-06-20 2017-06-20     14269.43      id     0 days\n",
       "8  2017-06-26 2017-06-30      3140.96      ru     4 days\n",
       "9  2017-06-28 2017-06-28      9909.73      ua     0 days\n",
       "10 2017-07-23 2017-07-25      1683.11      de     2 days\n",
       "11 2017-07-26 2017-07-27     15395.67      co     1 days\n",
       "12 2017-07-27 2017-07-30     26143.24      id     3 days\n",
       "13 2017-08-08 2017-08-10     10094.66      ca     2 days\n",
       "14 2017-08-31 2017-09-04      7896.38      gh     4 days\n",
       "15 2017-09-01 2017-09-05     13731.69      id     4 days\n",
       "16 2017-09-09 2017-09-11     29866.08      ru     2 days\n",
       "17 2017-09-10 2017-09-12      5109.46      br     2 days\n",
       "18 2017-09-21 2017-09-21      2677.16      za     0 days\n",
       "19 2017-09-23 2017-09-25     15065.68  global     2 days\n",
       "20 2017-09-28 2017-09-28     10500.64      ng     0 days\n",
       "21 2017-10-02 2017-10-03     23935.75      br     1 days\n",
       "22 2017-10-13 2017-10-15     12718.82      ie     2 days\n",
       "23 2017-11-20 2017-11-22      5491.55      id     2 days\n",
       "24 2017-11-24 2017-11-26     16456.49      id     2 days\n",
       "25 2017-11-24 2017-11-28     15020.37      id     4 days\n",
       "26 2018-01-19 2018-01-22      5533.58      id     3 days\n",
       "27 2018-01-30 2018-01-31     11466.04      id     1 days\n",
       "28 2018-02-01 2018-02-05     12522.87      ng     4 days\n",
       "29 2018-02-07 2018-02-10     18207.38      ph     3 days\n",
       "30 2018-03-02 2018-03-06     16042.75      br     4 days\n",
       "31 2018-03-05 2018-03-07     12906.71      id     2 days\n",
       "32 2018-03-12 2018-03-15      9192.02      id     3 days\n",
       "33 2018-04-11 2018-04-13     19928.51      id     2 days\n",
       "34 2018-05-23 2018-05-23     16954.21      gb     0 days\n",
       "35 2018-06-04 2018-06-08     11581.60      ng     4 days\n",
       "36 2018-06-24 2018-06-26      3050.58      ma     2 days\n",
       "37 2018-06-26 2018-06-28      7974.37      mg     2 days\n",
       "38 2018-06-26 2018-06-28     12463.88      it     2 days\n",
       "39 2018-07-29 2018-08-02     16661.93      py     4 days\n",
       "40 2018-10-03 2018-10-04      1745.10      id     1 days\n",
       "41 2018-10-29 2018-11-01      2141.17      br     3 days\n",
       "42 2018-10-31 2018-11-02     17392.31      ua     2 days"
      ]
     },
     "execution_count": 19,
     "metadata": {},
     "output_type": "execute_result"
    }
   ],
   "source": [
    "df_camps"
   ]
  },
  {
   "cell_type": "code",
   "execution_count": 20,
   "metadata": {},
   "outputs": [
    {
     "data": {
      "text/plain": [
       "19"
      ]
     },
     "execution_count": 20,
     "metadata": {},
     "output_type": "execute_result"
    }
   ],
   "source": [
    "df_camps['country'].nunique()"
   ]
  },
  {
   "cell_type": "code",
   "execution_count": 21,
   "metadata": {},
   "outputs": [
    {
     "data": {
      "text/plain": [
       "2 days    15\n",
       "4 days     9\n",
       "3 days     7\n",
       "1 days     6\n",
       "0 days     5\n",
       "5 days     1\n",
       "Name: no_of_days, dtype: int64"
      ]
     },
     "execution_count": 21,
     "metadata": {},
     "output_type": "execute_result"
    }
   ],
   "source": [
    "df_camps['no_of_days'].value_counts()"
   ]
  },
  {
   "cell_type": "code",
   "execution_count": 22,
   "metadata": {},
   "outputs": [
    {
     "data": {
      "text/plain": [
       "Timedelta('2 days 06:41:51.627906')"
      ]
     },
     "execution_count": 22,
     "metadata": {},
     "output_type": "execute_result"
    }
   ],
   "source": [
    "df_camps['no_of_days'].mean()"
   ]
  },
  {
   "cell_type": "code",
   "execution_count": 23,
   "metadata": {},
   "outputs": [
    {
     "data": {
      "text/plain": [
       "<matplotlib.axes._subplots.AxesSubplot at 0xc9009d0>"
      ]
     },
     "execution_count": 23,
     "metadata": {},
     "output_type": "execute_result"
    },
    {
     "data": {
      "image/png": "[encoded data removed]",
      "text/plain": [
       "<Figure size 432x288 with 1 Axes>"
      ]
     },
     "metadata": {
      "needs_background": "light"
     },
     "output_type": "display_data"
    }
   ],
   "source": [
    "df_camps.country.value_counts().plot(kind='barh')"
   ]
  },
  {
   "cell_type": "markdown",
   "metadata": {},
   "source": [
    "### Pre-process transactions table"
   ]
  },
  {
   "cell_type": "markdown",
   "metadata": {},
   "source": [
    "Preprocessing of transactions table involved:\n",
    "1. Changing the type of dates to 'DATETIME'\n",
    "2. Replacing the missing (NAN) 'amount' values with 0"
   ]
  },
  {
   "cell_type": "code",
   "execution_count": 24,
   "metadata": {},
   "outputs": [
    {
     "data": {
      "text/html": [
       "<div>\n",
       "<style scoped>\n",
       "    .dataframe tbody tr th:only-of-type {\n",
       "        vertical-align: middle;\n",
       "    }\n",
       "\n",
       "    .dataframe tbody tr th {\n",
       "        vertical-align: top;\n",
       "    }\n",
       "\n",
       "    .dataframe thead th {\n",
       "        text-align: right;\n",
       "    }\n",
       "</style>\n",
       "<table border=\"1\" class=\"dataframe\">\n",
       "  <thead>\n",
       "    <tr style=\"text-align: right;\">\n",
       "      <th></th>\n",
       "      <th>account</th>\n",
       "      <th>total_buy</th>\n",
       "      <th>total_sell</th>\n",
       "      <th>total_deposits</th>\n",
       "      <th>total_withdrawals</th>\n",
       "      <th>count_contracts</th>\n",
       "      <th>count_deposits</th>\n",
       "      <th>count_withdrawals</th>\n",
       "    </tr>\n",
       "  </thead>\n",
       "  <tbody>\n",
       "    <tr>\n",
       "      <td>count</td>\n",
       "      <td>36747.000000</td>\n",
       "      <td>33169.000000</td>\n",
       "      <td>32921.000000</td>\n",
       "      <td>8242.00000</td>\n",
       "      <td>16685.000000</td>\n",
       "      <td>36747.000000</td>\n",
       "      <td>36747.000000</td>\n",
       "      <td>36747.000000</td>\n",
       "    </tr>\n",
       "    <tr>\n",
       "      <td>mean</td>\n",
       "      <td>3098.360927</td>\n",
       "      <td>2327.151810</td>\n",
       "      <td>1807.789838</td>\n",
       "      <td>6860.93906</td>\n",
       "      <td>88211.235859</td>\n",
       "      <td>255.985468</td>\n",
       "      <td>0.292786</td>\n",
       "      <td>0.084850</td>\n",
       "    </tr>\n",
       "    <tr>\n",
       "      <td>std</td>\n",
       "      <td>1361.246105</td>\n",
       "      <td>10855.111743</td>\n",
       "      <td>8532.686975</td>\n",
       "      <td>9210.63811</td>\n",
       "      <td>31763.767680</td>\n",
       "      <td>4529.950176</td>\n",
       "      <td>0.707798</td>\n",
       "      <td>0.524256</td>\n",
       "    </tr>\n",
       "    <tr>\n",
       "      <td>min</td>\n",
       "      <td>1001.000000</td>\n",
       "      <td>0.070000</td>\n",
       "      <td>0.030000</td>\n",
       "      <td>1.30000</td>\n",
       "      <td>0.200000</td>\n",
       "      <td>0.000000</td>\n",
       "      <td>0.000000</td>\n",
       "      <td>0.000000</td>\n",
       "    </tr>\n",
       "    <tr>\n",
       "      <td>25%</td>\n",
       "      <td>1873.500000</td>\n",
       "      <td>4.500000</td>\n",
       "      <td>3.860000</td>\n",
       "      <td>350.00000</td>\n",
       "      <td>100000.000000</td>\n",
       "      <td>3.000000</td>\n",
       "      <td>0.000000</td>\n",
       "      <td>0.000000</td>\n",
       "    </tr>\n",
       "    <tr>\n",
       "      <td>50%</td>\n",
       "      <td>3153.000000</td>\n",
       "      <td>28.190000</td>\n",
       "      <td>23.920000</td>\n",
       "      <td>9090.91000</td>\n",
       "      <td>100000.000000</td>\n",
       "      <td>15.000000</td>\n",
       "      <td>0.000000</td>\n",
       "      <td>0.000000</td>\n",
       "    </tr>\n",
       "    <tr>\n",
       "      <td>75%</td>\n",
       "      <td>4052.500000</td>\n",
       "      <td>259.170000</td>\n",
       "      <td>217.180000</td>\n",
       "      <td>9090.91000</td>\n",
       "      <td>100000.000000</td>\n",
       "      <td>68.000000</td>\n",
       "      <td>0.000000</td>\n",
       "      <td>0.000000</td>\n",
       "    </tr>\n",
       "    <tr>\n",
       "      <td>max</td>\n",
       "      <td>5999.000000</td>\n",
       "      <td>100000.000000</td>\n",
       "      <td>100000.000000</td>\n",
       "      <td>100000.00000</td>\n",
       "      <td>100000.000000</td>\n",
       "      <td>248789.000000</td>\n",
       "      <td>17.000000</td>\n",
       "      <td>33.000000</td>\n",
       "    </tr>\n",
       "  </tbody>\n",
       "</table>\n",
       "</div>"
      ],
      "text/plain": [
       "            account      total_buy     total_sell  total_deposits  \\\n",
       "count  36747.000000   33169.000000   32921.000000      8242.00000   \n",
       "mean    3098.360927    2327.151810    1807.789838      6860.93906   \n",
       "std     1361.246105   10855.111743    8532.686975      9210.63811   \n",
       "min     1001.000000       0.070000       0.030000         1.30000   \n",
       "25%     1873.500000       4.500000       3.860000       350.00000   \n",
       "50%     3153.000000      28.190000      23.920000      9090.91000   \n",
       "75%     4052.500000     259.170000     217.180000      9090.91000   \n",
       "max     5999.000000  100000.000000  100000.000000    100000.00000   \n",
       "\n",
       "       total_withdrawals  count_contracts  count_deposits  count_withdrawals  \n",
       "count       16685.000000     36747.000000    36747.000000       36747.000000  \n",
       "mean        88211.235859       255.985468        0.292786           0.084850  \n",
       "std         31763.767680      4529.950176        0.707798           0.524256  \n",
       "min             0.200000         0.000000        0.000000           0.000000  \n",
       "25%        100000.000000         3.000000        0.000000           0.000000  \n",
       "50%        100000.000000        15.000000        0.000000           0.000000  \n",
       "75%        100000.000000        68.000000        0.000000           0.000000  \n",
       "max        100000.000000    248789.000000       17.000000          33.000000  "
      ]
     },
     "execution_count": 24,
     "metadata": {},
     "output_type": "execute_result"
    }
   ],
   "source": [
    "df_tran.describe()"
   ]
  },
  {
   "cell_type": "code",
   "execution_count": 25,
   "metadata": {
    "scrolled": true
   },
   "outputs": [
    {
     "name": "stdout",
     "output_type": "stream",
     "text": [
      "Total clients who have ever made a transaction: 3964\n"
     ]
    }
   ],
   "source": [
    "print('Total clients who have ever made a transaction:', df_tran['account'].nunique())"
   ]
  },
  {
   "cell_type": "code",
   "execution_count": 26,
   "metadata": {},
   "outputs": [],
   "source": [
    "df_tran['transaction_date'] = pd.to_datetime(df_tran['transaction_date'])"
   ]
  },
  {
   "cell_type": "code",
   "execution_count": 27,
   "metadata": {},
   "outputs": [],
   "source": [
    "df_tran['total_buy'].fillna(0,inplace=True)\n",
    "df_tran['total_sell'].fillna(0,inplace=True)\n",
    "df_tran['total_deposits'].fillna(0,inplace=True)\n",
    "df_tran['total_withdrawals'].fillna(0,inplace=True)"
   ]
  },
  {
   "cell_type": "code",
   "execution_count": 28,
   "metadata": {},
   "outputs": [
    {
     "data": {
      "text/html": [
       "<div>\n",
       "<style scoped>\n",
       "    .dataframe tbody tr th:only-of-type {\n",
       "        vertical-align: middle;\n",
       "    }\n",
       "\n",
       "    .dataframe tbody tr th {\n",
       "        vertical-align: top;\n",
       "    }\n",
       "\n",
       "    .dataframe thead th {\n",
       "        text-align: right;\n",
       "    }\n",
       "</style>\n",
       "<table border=\"1\" class=\"dataframe\">\n",
       "  <thead>\n",
       "    <tr style=\"text-align: right;\">\n",
       "      <th></th>\n",
       "      <th>transaction_date</th>\n",
       "      <th>account</th>\n",
       "      <th>total_buy</th>\n",
       "      <th>total_sell</th>\n",
       "      <th>total_deposits</th>\n",
       "      <th>total_withdrawals</th>\n",
       "      <th>count_contracts</th>\n",
       "      <th>count_deposits</th>\n",
       "      <th>count_withdrawals</th>\n",
       "    </tr>\n",
       "  </thead>\n",
       "  <tbody>\n",
       "  </tbody>\n",
       "</table>\n",
       "</div>"
      ],
      "text/plain": [
       "Empty DataFrame\n",
       "Columns: [transaction_date, account, total_buy, total_sell, total_deposits, total_withdrawals, count_contracts, count_deposits, count_withdrawals]\n",
       "Index: []"
      ]
     },
     "execution_count": 28,
     "metadata": {},
     "output_type": "execute_result"
    }
   ],
   "source": [
    "# Buy, sell, deposits, withdrawals are all considered as transactions\n",
    "df_tran[df_tran['total_buy'].isna()]"
   ]
  },
  {
   "cell_type": "markdown",
   "metadata": {},
   "source": [
    "# 1. Performance of past campaigns"
   ]
  },
  {
   "cell_type": "markdown",
   "metadata": {},
   "source": [
    "The performance of past campaigns can be analysed in a few possible ways:\n",
    "1.\tMay be aimed to increase the number of clients on the website (awareness)\n",
    "2.\tOr it may aim to increase the profit generated\n",
    "3.\tOr maybe both of the above\n",
    "\n",
    "The effectiveness of these campaigns can be determined by comparing the results before and after the campaigns\n"
   ]
  },
  {
   "cell_type": "markdown",
   "metadata": {},
   "source": [
    "### 1.0 Number of accounts"
   ]
  },
  {
   "cell_type": "code",
   "execution_count": 29,
   "metadata": {},
   "outputs": [
    {
     "data": {
      "text/html": [
       "<div>\n",
       "<style scoped>\n",
       "    .dataframe tbody tr th:only-of-type {\n",
       "        vertical-align: middle;\n",
       "    }\n",
       "\n",
       "    .dataframe tbody tr th {\n",
       "        vertical-align: top;\n",
       "    }\n",
       "\n",
       "    .dataframe thead th {\n",
       "        text-align: right;\n",
       "    }\n",
       "</style>\n",
       "<table border=\"1\" class=\"dataframe\">\n",
       "  <thead>\n",
       "    <tr style=\"text-align: right;\">\n",
       "      <th></th>\n",
       "      <th>account</th>\n",
       "      <th>type</th>\n",
       "      <th>residence</th>\n",
       "      <th>date_joined</th>\n",
       "      <th>indication_coupon</th>\n",
       "      <th>first_deposit_amount</th>\n",
       "      <th>first_deposit_date</th>\n",
       "      <th>first_transaction_amount</th>\n",
       "      <th>first_transaction_date</th>\n",
       "      <th>balance_amount</th>\n",
       "    </tr>\n",
       "  </thead>\n",
       "  <tbody>\n",
       "    <tr>\n",
       "      <td>0</td>\n",
       "      <td>5019</td>\n",
       "      <td>type_6</td>\n",
       "      <td>ua</td>\n",
       "      <td>2018-06-18</td>\n",
       "      <td>308</td>\n",
       "      <td>9090.91</td>\n",
       "      <td>2018-06-18</td>\n",
       "      <td>0.00</td>\n",
       "      <td>NaT</td>\n",
       "      <td>9090.91</td>\n",
       "    </tr>\n",
       "    <tr>\n",
       "      <td>1</td>\n",
       "      <td>3655</td>\n",
       "      <td>type_6</td>\n",
       "      <td>ve</td>\n",
       "      <td>2017-09-04</td>\n",
       "      <td>83</td>\n",
       "      <td>9090.91</td>\n",
       "      <td>2017-09-04</td>\n",
       "      <td>0.12</td>\n",
       "      <td>2017-09-04</td>\n",
       "      <td>-191834.62</td>\n",
       "    </tr>\n",
       "  </tbody>\n",
       "</table>\n",
       "</div>"
      ],
      "text/plain": [
       "   account    type residence date_joined  indication_coupon  \\\n",
       "0     5019  type_6        ua  2018-06-18                308   \n",
       "1     3655  type_6        ve  2017-09-04                 83   \n",
       "\n",
       "   first_deposit_amount first_deposit_date  first_transaction_amount  \\\n",
       "0               9090.91         2018-06-18                      0.00   \n",
       "1               9090.91         2017-09-04                      0.12   \n",
       "\n",
       "  first_transaction_date  balance_amount  \n",
       "0                    NaT         9090.91  \n",
       "1             2017-09-04      -191834.62  "
      ]
     },
     "metadata": {},
     "output_type": "display_data"
    },
    {
     "data": {
      "text/html": [
       "<div>\n",
       "<style scoped>\n",
       "    .dataframe tbody tr th:only-of-type {\n",
       "        vertical-align: middle;\n",
       "    }\n",
       "\n",
       "    .dataframe tbody tr th {\n",
       "        vertical-align: top;\n",
       "    }\n",
       "\n",
       "    .dataframe thead th {\n",
       "        text-align: right;\n",
       "    }\n",
       "</style>\n",
       "<table border=\"1\" class=\"dataframe\">\n",
       "  <thead>\n",
       "    <tr style=\"text-align: right;\">\n",
       "      <th></th>\n",
       "      <th>start_date</th>\n",
       "      <th>end_date</th>\n",
       "      <th>total_spend</th>\n",
       "      <th>country</th>\n",
       "      <th>no_of_days</th>\n",
       "    </tr>\n",
       "  </thead>\n",
       "  <tbody>\n",
       "    <tr>\n",
       "      <td>0</td>\n",
       "      <td>2017-01-03</td>\n",
       "      <td>2017-01-04</td>\n",
       "      <td>9935.67</td>\n",
       "      <td>global</td>\n",
       "      <td>1 days</td>\n",
       "    </tr>\n",
       "    <tr>\n",
       "      <td>1</td>\n",
       "      <td>2017-01-04</td>\n",
       "      <td>2017-01-06</td>\n",
       "      <td>17696.41</td>\n",
       "      <td>id</td>\n",
       "      <td>2 days</td>\n",
       "    </tr>\n",
       "  </tbody>\n",
       "</table>\n",
       "</div>"
      ],
      "text/plain": [
       "  start_date   end_date  total_spend country no_of_days\n",
       "0 2017-01-03 2017-01-04      9935.67  global     1 days\n",
       "1 2017-01-04 2017-01-06     17696.41      id     2 days"
      ]
     },
     "metadata": {},
     "output_type": "display_data"
    }
   ],
   "source": [
    "display(df_client.head(2))\n",
    "display(df_camps.head(2))"
   ]
  },
  {
   "cell_type": "code",
   "execution_count": 30,
   "metadata": {
    "scrolled": false
   },
   "outputs": [
    {
     "data": {
      "text/html": [
       "<div>\n",
       "<style scoped>\n",
       "    .dataframe tbody tr th:only-of-type {\n",
       "        vertical-align: middle;\n",
       "    }\n",
       "\n",
       "    .dataframe tbody tr th {\n",
       "        vertical-align: top;\n",
       "    }\n",
       "\n",
       "    .dataframe thead th {\n",
       "        text-align: right;\n",
       "    }\n",
       "</style>\n",
       "<table border=\"1\" class=\"dataframe\">\n",
       "  <thead>\n",
       "    <tr style=\"text-align: right;\">\n",
       "      <th></th>\n",
       "      <th>date_joined</th>\n",
       "      <th>residence</th>\n",
       "      <th>account</th>\n",
       "    </tr>\n",
       "  </thead>\n",
       "  <tbody>\n",
       "    <tr>\n",
       "      <td>0</td>\n",
       "      <td>2017-01-01</td>\n",
       "      <td>br</td>\n",
       "      <td>1</td>\n",
       "    </tr>\n",
       "    <tr>\n",
       "      <td>1</td>\n",
       "      <td>2017-01-01</td>\n",
       "      <td>gb</td>\n",
       "      <td>1</td>\n",
       "    </tr>\n",
       "  </tbody>\n",
       "</table>\n",
       "</div>"
      ],
      "text/plain": [
       "  date_joined residence  account\n",
       "0  2017-01-01        br        1\n",
       "1  2017-01-01        gb        1"
      ]
     },
     "execution_count": 30,
     "metadata": {},
     "output_type": "execute_result"
    }
   ],
   "source": [
    "#group the by date and residence and count the number of accounts\n",
    "df_client = df_client.sort_values('date_joined', ascending=True)\n",
    "df_client_count = df_client.groupby(['date_joined', 'residence']).agg({'account':'count'}).reset_index()\n",
    "df_client_count['date_joined'] = pd.to_datetime(df_client_count['date_joined'])\n",
    "df_client_count.head(2)"
   ]
  },
  {
   "cell_type": "code",
   "execution_count": 31,
   "metadata": {},
   "outputs": [],
   "source": [
    "camp_starts = df_camps['start_date'].tolist()\n",
    "camp_ends = df_camps['end_date'].tolist()\n",
    "countries = df_camps['country'].tolist()\n",
    "\n",
    "before_total_count = []\n",
    "acc_count_increase = []\n",
    "\n",
    "# Runs quite quickly as there are only 43 campaigns, O(n) best case = worst case, n is the number of campaigns\n",
    "for start_date, end_date, country in zip(camp_starts, camp_ends, countries):\n",
    "    before_total_count.append(df_client_count[(df_client_count['date_joined'] < pd.to_datetime(start_date)) & ((df_client_count['residence'] == country))]['account'].sum())\n",
    "    # accounts that increased during a campaign\n",
    "    temp_df = df_client_count[(df_client_count['date_joined'] >= pd.to_datetime(start_date)) & (df_client_count['date_joined'] <= pd.to_datetime(end_date)) & (df_client_count['residence'] == country)]\n",
    "    acc_count_increase.append(temp_df['account'].sum())"
   ]
  },
  {
   "cell_type": "code",
   "execution_count": 32,
   "metadata": {},
   "outputs": [],
   "source": [
    "# Note, all these column values are specific based on country\n",
    "df_camps['no_accounts_before'] = before_total_count\n",
    "df_camps['no_accounts_increase'] = acc_count_increase\n",
    "df_camps['no_accounts_after'] = df_camps['no_accounts_before'] + df_camps['no_accounts_increase']"
   ]
  },
  {
   "cell_type": "code",
   "execution_count": 33,
   "metadata": {},
   "outputs": [],
   "source": [
    "df_camp_client = df_camps.copy()"
   ]
  },
  {
   "cell_type": "code",
   "execution_count": 34,
   "metadata": {},
   "outputs": [
    {
     "data": {
      "text/html": [
       "<div>\n",
       "<style scoped>\n",
       "    .dataframe tbody tr th:only-of-type {\n",
       "        vertical-align: middle;\n",
       "    }\n",
       "\n",
       "    .dataframe tbody tr th {\n",
       "        vertical-align: top;\n",
       "    }\n",
       "\n",
       "    .dataframe thead th {\n",
       "        text-align: right;\n",
       "    }\n",
       "</style>\n",
       "<table border=\"1\" class=\"dataframe\">\n",
       "  <thead>\n",
       "    <tr style=\"text-align: right;\">\n",
       "      <th></th>\n",
       "      <th>start_date</th>\n",
       "      <th>end_date</th>\n",
       "      <th>total_spend</th>\n",
       "      <th>country</th>\n",
       "      <th>no_of_days</th>\n",
       "      <th>no_accounts_before</th>\n",
       "      <th>no_accounts_increase</th>\n",
       "      <th>no_accounts_after</th>\n",
       "    </tr>\n",
       "  </thead>\n",
       "  <tbody>\n",
       "    <tr>\n",
       "      <td>0</td>\n",
       "      <td>2017-01-03</td>\n",
       "      <td>2017-01-04</td>\n",
       "      <td>9935.67</td>\n",
       "      <td>global</td>\n",
       "      <td>1 days</td>\n",
       "      <td>0</td>\n",
       "      <td>0</td>\n",
       "      <td>0</td>\n",
       "    </tr>\n",
       "    <tr>\n",
       "      <td>1</td>\n",
       "      <td>2017-01-04</td>\n",
       "      <td>2017-01-06</td>\n",
       "      <td>17696.41</td>\n",
       "      <td>id</td>\n",
       "      <td>2 days</td>\n",
       "      <td>3</td>\n",
       "      <td>3</td>\n",
       "      <td>6</td>\n",
       "    </tr>\n",
       "    <tr>\n",
       "      <td>2</td>\n",
       "      <td>2017-01-08</td>\n",
       "      <td>2017-01-12</td>\n",
       "      <td>22541.26</td>\n",
       "      <td>in</td>\n",
       "      <td>4 days</td>\n",
       "      <td>1</td>\n",
       "      <td>0</td>\n",
       "      <td>1</td>\n",
       "    </tr>\n",
       "    <tr>\n",
       "      <td>3</td>\n",
       "      <td>2017-02-13</td>\n",
       "      <td>2017-02-18</td>\n",
       "      <td>745.89</td>\n",
       "      <td>ng</td>\n",
       "      <td>5 days</td>\n",
       "      <td>11</td>\n",
       "      <td>2</td>\n",
       "      <td>13</td>\n",
       "    </tr>\n",
       "    <tr>\n",
       "      <td>4</td>\n",
       "      <td>2017-05-02</td>\n",
       "      <td>2017-05-03</td>\n",
       "      <td>15338.78</td>\n",
       "      <td>id</td>\n",
       "      <td>1 days</td>\n",
       "      <td>257</td>\n",
       "      <td>3</td>\n",
       "      <td>260</td>\n",
       "    </tr>\n",
       "    <tr>\n",
       "      <td>5</td>\n",
       "      <td>2017-05-20</td>\n",
       "      <td>2017-05-23</td>\n",
       "      <td>7976.25</td>\n",
       "      <td>gh</td>\n",
       "      <td>3 days</td>\n",
       "      <td>1</td>\n",
       "      <td>0</td>\n",
       "      <td>1</td>\n",
       "    </tr>\n",
       "    <tr>\n",
       "      <td>6</td>\n",
       "      <td>2017-05-25</td>\n",
       "      <td>2017-05-28</td>\n",
       "      <td>7102.54</td>\n",
       "      <td>ru</td>\n",
       "      <td>3 days</td>\n",
       "      <td>62</td>\n",
       "      <td>1</td>\n",
       "      <td>63</td>\n",
       "    </tr>\n",
       "    <tr>\n",
       "      <td>7</td>\n",
       "      <td>2017-06-20</td>\n",
       "      <td>2017-06-20</td>\n",
       "      <td>14269.43</td>\n",
       "      <td>id</td>\n",
       "      <td>0 days</td>\n",
       "      <td>344</td>\n",
       "      <td>1</td>\n",
       "      <td>345</td>\n",
       "    </tr>\n",
       "    <tr>\n",
       "      <td>8</td>\n",
       "      <td>2017-06-26</td>\n",
       "      <td>2017-06-30</td>\n",
       "      <td>3140.96</td>\n",
       "      <td>ru</td>\n",
       "      <td>4 days</td>\n",
       "      <td>68</td>\n",
       "      <td>1</td>\n",
       "      <td>69</td>\n",
       "    </tr>\n",
       "    <tr>\n",
       "      <td>9</td>\n",
       "      <td>2017-06-28</td>\n",
       "      <td>2017-06-28</td>\n",
       "      <td>9909.73</td>\n",
       "      <td>ua</td>\n",
       "      <td>0 days</td>\n",
       "      <td>15</td>\n",
       "      <td>0</td>\n",
       "      <td>15</td>\n",
       "    </tr>\n",
       "    <tr>\n",
       "      <td>10</td>\n",
       "      <td>2017-07-23</td>\n",
       "      <td>2017-07-25</td>\n",
       "      <td>1683.11</td>\n",
       "      <td>de</td>\n",
       "      <td>2 days</td>\n",
       "      <td>14</td>\n",
       "      <td>0</td>\n",
       "      <td>14</td>\n",
       "    </tr>\n",
       "    <tr>\n",
       "      <td>11</td>\n",
       "      <td>2017-07-26</td>\n",
       "      <td>2017-07-27</td>\n",
       "      <td>15395.67</td>\n",
       "      <td>co</td>\n",
       "      <td>1 days</td>\n",
       "      <td>6</td>\n",
       "      <td>0</td>\n",
       "      <td>6</td>\n",
       "    </tr>\n",
       "    <tr>\n",
       "      <td>12</td>\n",
       "      <td>2017-07-27</td>\n",
       "      <td>2017-07-30</td>\n",
       "      <td>26143.24</td>\n",
       "      <td>id</td>\n",
       "      <td>3 days</td>\n",
       "      <td>413</td>\n",
       "      <td>11</td>\n",
       "      <td>424</td>\n",
       "    </tr>\n",
       "    <tr>\n",
       "      <td>13</td>\n",
       "      <td>2017-08-08</td>\n",
       "      <td>2017-08-10</td>\n",
       "      <td>10094.66</td>\n",
       "      <td>ca</td>\n",
       "      <td>2 days</td>\n",
       "      <td>18</td>\n",
       "      <td>0</td>\n",
       "      <td>18</td>\n",
       "    </tr>\n",
       "    <tr>\n",
       "      <td>14</td>\n",
       "      <td>2017-08-31</td>\n",
       "      <td>2017-09-04</td>\n",
       "      <td>7896.38</td>\n",
       "      <td>gh</td>\n",
       "      <td>4 days</td>\n",
       "      <td>4</td>\n",
       "      <td>0</td>\n",
       "      <td>4</td>\n",
       "    </tr>\n",
       "    <tr>\n",
       "      <td>15</td>\n",
       "      <td>2017-09-01</td>\n",
       "      <td>2017-09-05</td>\n",
       "      <td>13731.69</td>\n",
       "      <td>id</td>\n",
       "      <td>4 days</td>\n",
       "      <td>498</td>\n",
       "      <td>9</td>\n",
       "      <td>507</td>\n",
       "    </tr>\n",
       "    <tr>\n",
       "      <td>16</td>\n",
       "      <td>2017-09-09</td>\n",
       "      <td>2017-09-11</td>\n",
       "      <td>29866.08</td>\n",
       "      <td>ru</td>\n",
       "      <td>2 days</td>\n",
       "      <td>100</td>\n",
       "      <td>3</td>\n",
       "      <td>103</td>\n",
       "    </tr>\n",
       "    <tr>\n",
       "      <td>17</td>\n",
       "      <td>2017-09-10</td>\n",
       "      <td>2017-09-12</td>\n",
       "      <td>5109.46</td>\n",
       "      <td>br</td>\n",
       "      <td>2 days</td>\n",
       "      <td>113</td>\n",
       "      <td>2</td>\n",
       "      <td>115</td>\n",
       "    </tr>\n",
       "    <tr>\n",
       "      <td>18</td>\n",
       "      <td>2017-09-21</td>\n",
       "      <td>2017-09-21</td>\n",
       "      <td>2677.16</td>\n",
       "      <td>za</td>\n",
       "      <td>0 days</td>\n",
       "      <td>31</td>\n",
       "      <td>0</td>\n",
       "      <td>31</td>\n",
       "    </tr>\n",
       "    <tr>\n",
       "      <td>19</td>\n",
       "      <td>2017-09-23</td>\n",
       "      <td>2017-09-25</td>\n",
       "      <td>15065.68</td>\n",
       "      <td>global</td>\n",
       "      <td>2 days</td>\n",
       "      <td>0</td>\n",
       "      <td>0</td>\n",
       "      <td>0</td>\n",
       "    </tr>\n",
       "    <tr>\n",
       "      <td>20</td>\n",
       "      <td>2017-09-28</td>\n",
       "      <td>2017-09-28</td>\n",
       "      <td>10500.64</td>\n",
       "      <td>ng</td>\n",
       "      <td>0 days</td>\n",
       "      <td>67</td>\n",
       "      <td>0</td>\n",
       "      <td>67</td>\n",
       "    </tr>\n",
       "    <tr>\n",
       "      <td>21</td>\n",
       "      <td>2017-10-02</td>\n",
       "      <td>2017-10-03</td>\n",
       "      <td>23935.75</td>\n",
       "      <td>br</td>\n",
       "      <td>1 days</td>\n",
       "      <td>126</td>\n",
       "      <td>0</td>\n",
       "      <td>126</td>\n",
       "    </tr>\n",
       "    <tr>\n",
       "      <td>22</td>\n",
       "      <td>2017-10-13</td>\n",
       "      <td>2017-10-15</td>\n",
       "      <td>12718.82</td>\n",
       "      <td>ie</td>\n",
       "      <td>2 days</td>\n",
       "      <td>2</td>\n",
       "      <td>0</td>\n",
       "      <td>2</td>\n",
       "    </tr>\n",
       "    <tr>\n",
       "      <td>23</td>\n",
       "      <td>2017-11-20</td>\n",
       "      <td>2017-11-22</td>\n",
       "      <td>5491.55</td>\n",
       "      <td>id</td>\n",
       "      <td>2 days</td>\n",
       "      <td>704</td>\n",
       "      <td>6</td>\n",
       "      <td>710</td>\n",
       "    </tr>\n",
       "    <tr>\n",
       "      <td>24</td>\n",
       "      <td>2017-11-24</td>\n",
       "      <td>2017-11-26</td>\n",
       "      <td>16456.49</td>\n",
       "      <td>id</td>\n",
       "      <td>2 days</td>\n",
       "      <td>715</td>\n",
       "      <td>10</td>\n",
       "      <td>725</td>\n",
       "    </tr>\n",
       "    <tr>\n",
       "      <td>25</td>\n",
       "      <td>2017-11-24</td>\n",
       "      <td>2017-11-28</td>\n",
       "      <td>15020.37</td>\n",
       "      <td>id</td>\n",
       "      <td>4 days</td>\n",
       "      <td>715</td>\n",
       "      <td>20</td>\n",
       "      <td>735</td>\n",
       "    </tr>\n",
       "    <tr>\n",
       "      <td>26</td>\n",
       "      <td>2018-01-19</td>\n",
       "      <td>2018-01-22</td>\n",
       "      <td>5533.58</td>\n",
       "      <td>id</td>\n",
       "      <td>3 days</td>\n",
       "      <td>891</td>\n",
       "      <td>11</td>\n",
       "      <td>902</td>\n",
       "    </tr>\n",
       "    <tr>\n",
       "      <td>27</td>\n",
       "      <td>2018-01-30</td>\n",
       "      <td>2018-01-31</td>\n",
       "      <td>11466.04</td>\n",
       "      <td>id</td>\n",
       "      <td>1 days</td>\n",
       "      <td>918</td>\n",
       "      <td>6</td>\n",
       "      <td>924</td>\n",
       "    </tr>\n",
       "    <tr>\n",
       "      <td>28</td>\n",
       "      <td>2018-02-01</td>\n",
       "      <td>2018-02-05</td>\n",
       "      <td>12522.87</td>\n",
       "      <td>ng</td>\n",
       "      <td>4 days</td>\n",
       "      <td>125</td>\n",
       "      <td>0</td>\n",
       "      <td>125</td>\n",
       "    </tr>\n",
       "    <tr>\n",
       "      <td>29</td>\n",
       "      <td>2018-02-07</td>\n",
       "      <td>2018-02-10</td>\n",
       "      <td>18207.38</td>\n",
       "      <td>ph</td>\n",
       "      <td>3 days</td>\n",
       "      <td>17</td>\n",
       "      <td>0</td>\n",
       "      <td>17</td>\n",
       "    </tr>\n",
       "    <tr>\n",
       "      <td>30</td>\n",
       "      <td>2018-03-02</td>\n",
       "      <td>2018-03-06</td>\n",
       "      <td>16042.75</td>\n",
       "      <td>br</td>\n",
       "      <td>4 days</td>\n",
       "      <td>221</td>\n",
       "      <td>9</td>\n",
       "      <td>230</td>\n",
       "    </tr>\n",
       "    <tr>\n",
       "      <td>31</td>\n",
       "      <td>2018-03-05</td>\n",
       "      <td>2018-03-07</td>\n",
       "      <td>12906.71</td>\n",
       "      <td>id</td>\n",
       "      <td>2 days</td>\n",
       "      <td>997</td>\n",
       "      <td>7</td>\n",
       "      <td>1004</td>\n",
       "    </tr>\n",
       "    <tr>\n",
       "      <td>32</td>\n",
       "      <td>2018-03-12</td>\n",
       "      <td>2018-03-15</td>\n",
       "      <td>9192.02</td>\n",
       "      <td>id</td>\n",
       "      <td>3 days</td>\n",
       "      <td>1014</td>\n",
       "      <td>15</td>\n",
       "      <td>1029</td>\n",
       "    </tr>\n",
       "    <tr>\n",
       "      <td>33</td>\n",
       "      <td>2018-04-11</td>\n",
       "      <td>2018-04-13</td>\n",
       "      <td>19928.51</td>\n",
       "      <td>id</td>\n",
       "      <td>2 days</td>\n",
       "      <td>1100</td>\n",
       "      <td>10</td>\n",
       "      <td>1110</td>\n",
       "    </tr>\n",
       "    <tr>\n",
       "      <td>34</td>\n",
       "      <td>2018-05-23</td>\n",
       "      <td>2018-05-23</td>\n",
       "      <td>16954.21</td>\n",
       "      <td>gb</td>\n",
       "      <td>0 days</td>\n",
       "      <td>90</td>\n",
       "      <td>0</td>\n",
       "      <td>90</td>\n",
       "    </tr>\n",
       "    <tr>\n",
       "      <td>35</td>\n",
       "      <td>2018-06-04</td>\n",
       "      <td>2018-06-08</td>\n",
       "      <td>11581.60</td>\n",
       "      <td>ng</td>\n",
       "      <td>4 days</td>\n",
       "      <td>172</td>\n",
       "      <td>2</td>\n",
       "      <td>174</td>\n",
       "    </tr>\n",
       "    <tr>\n",
       "      <td>36</td>\n",
       "      <td>2018-06-24</td>\n",
       "      <td>2018-06-26</td>\n",
       "      <td>3050.58</td>\n",
       "      <td>ma</td>\n",
       "      <td>2 days</td>\n",
       "      <td>6</td>\n",
       "      <td>0</td>\n",
       "      <td>6</td>\n",
       "    </tr>\n",
       "    <tr>\n",
       "      <td>37</td>\n",
       "      <td>2018-06-26</td>\n",
       "      <td>2018-06-28</td>\n",
       "      <td>7974.37</td>\n",
       "      <td>mg</td>\n",
       "      <td>2 days</td>\n",
       "      <td>3</td>\n",
       "      <td>0</td>\n",
       "      <td>3</td>\n",
       "    </tr>\n",
       "    <tr>\n",
       "      <td>38</td>\n",
       "      <td>2018-06-26</td>\n",
       "      <td>2018-06-28</td>\n",
       "      <td>12463.88</td>\n",
       "      <td>it</td>\n",
       "      <td>2 days</td>\n",
       "      <td>37</td>\n",
       "      <td>0</td>\n",
       "      <td>37</td>\n",
       "    </tr>\n",
       "    <tr>\n",
       "      <td>39</td>\n",
       "      <td>2018-07-29</td>\n",
       "      <td>2018-08-02</td>\n",
       "      <td>16661.93</td>\n",
       "      <td>py</td>\n",
       "      <td>4 days</td>\n",
       "      <td>3</td>\n",
       "      <td>0</td>\n",
       "      <td>3</td>\n",
       "    </tr>\n",
       "    <tr>\n",
       "      <td>40</td>\n",
       "      <td>2018-10-03</td>\n",
       "      <td>2018-10-04</td>\n",
       "      <td>1745.10</td>\n",
       "      <td>id</td>\n",
       "      <td>1 days</td>\n",
       "      <td>1542</td>\n",
       "      <td>12</td>\n",
       "      <td>1554</td>\n",
       "    </tr>\n",
       "    <tr>\n",
       "      <td>41</td>\n",
       "      <td>2018-10-29</td>\n",
       "      <td>2018-11-01</td>\n",
       "      <td>2141.17</td>\n",
       "      <td>br</td>\n",
       "      <td>3 days</td>\n",
       "      <td>395</td>\n",
       "      <td>1</td>\n",
       "      <td>396</td>\n",
       "    </tr>\n",
       "    <tr>\n",
       "      <td>42</td>\n",
       "      <td>2018-10-31</td>\n",
       "      <td>2018-11-02</td>\n",
       "      <td>17392.31</td>\n",
       "      <td>ua</td>\n",
       "      <td>2 days</td>\n",
       "      <td>75</td>\n",
       "      <td>0</td>\n",
       "      <td>75</td>\n",
       "    </tr>\n",
       "  </tbody>\n",
       "</table>\n",
       "</div>"
      ],
      "text/plain": [
       "   start_date   end_date  total_spend country no_of_days  no_accounts_before  \\\n",
       "0  2017-01-03 2017-01-04      9935.67  global     1 days                   0   \n",
       "1  2017-01-04 2017-01-06     17696.41      id     2 days                   3   \n",
       "2  2017-01-08 2017-01-12     22541.26      in     4 days                   1   \n",
       "3  2017-02-13 2017-02-18       745.89      ng     5 days                  11   \n",
       "4  2017-05-02 2017-05-03     15338.78      id     1 days                 257   \n",
       "5  2017-05-20 2017-05-23      7976.25      gh     3 days                   1   \n",
       "6  2017-05-25 2017-05-28      7102.54      ru     3 days                  62   \n",
       "7  2017-06-20 2017-06-20     14269.43      id     0 days                 344   \n",
       "8  2017-06-26 2017-06-30      3140.96      ru     4 days                  68   \n",
       "9  2017-06-28 2017-06-28      9909.73      ua     0 days                  15   \n",
       "10 2017-07-23 2017-07-25      1683.11      de     2 days                  14   \n",
       "11 2017-07-26 2017-07-27     15395.67      co     1 days                   6   \n",
       "12 2017-07-27 2017-07-30     26143.24      id     3 days                 413   \n",
       "13 2017-08-08 2017-08-10     10094.66      ca     2 days                  18   \n",
       "14 2017-08-31 2017-09-04      7896.38      gh     4 days                   4   \n",
       "15 2017-09-01 2017-09-05     13731.69      id     4 days                 498   \n",
       "16 2017-09-09 2017-09-11     29866.08      ru     2 days                 100   \n",
       "17 2017-09-10 2017-09-12      5109.46      br     2 days                 113   \n",
       "18 2017-09-21 2017-09-21      2677.16      za     0 days                  31   \n",
       "19 2017-09-23 2017-09-25     15065.68  global     2 days                   0   \n",
       "20 2017-09-28 2017-09-28     10500.64      ng     0 days                  67   \n",
       "21 2017-10-02 2017-10-03     23935.75      br     1 days                 126   \n",
       "22 2017-10-13 2017-10-15     12718.82      ie     2 days                   2   \n",
       "23 2017-11-20 2017-11-22      5491.55      id     2 days                 704   \n",
       "24 2017-11-24 2017-11-26     16456.49      id     2 days                 715   \n",
       "25 2017-11-24 2017-11-28     15020.37      id     4 days                 715   \n",
       "26 2018-01-19 2018-01-22      5533.58      id     3 days                 891   \n",
       "27 2018-01-30 2018-01-31     11466.04      id     1 days                 918   \n",
       "28 2018-02-01 2018-02-05     12522.87      ng     4 days                 125   \n",
       "29 2018-02-07 2018-02-10     18207.38      ph     3 days                  17   \n",
       "30 2018-03-02 2018-03-06     16042.75      br     4 days                 221   \n",
       "31 2018-03-05 2018-03-07     12906.71      id     2 days                 997   \n",
       "32 2018-03-12 2018-03-15      9192.02      id     3 days                1014   \n",
       "33 2018-04-11 2018-04-13     19928.51      id     2 days                1100   \n",
       "34 2018-05-23 2018-05-23     16954.21      gb     0 days                  90   \n",
       "35 2018-06-04 2018-06-08     11581.60      ng     4 days                 172   \n",
       "36 2018-06-24 2018-06-26      3050.58      ma     2 days                   6   \n",
       "37 2018-06-26 2018-06-28      7974.37      mg     2 days                   3   \n",
       "38 2018-06-26 2018-06-28     12463.88      it     2 days                  37   \n",
       "39 2018-07-29 2018-08-02     16661.93      py     4 days                   3   \n",
       "40 2018-10-03 2018-10-04      1745.10      id     1 days                1542   \n",
       "41 2018-10-29 2018-11-01      2141.17      br     3 days                 395   \n",
       "42 2018-10-31 2018-11-02     17392.31      ua     2 days                  75   \n",
       "\n",
       "    no_accounts_increase  no_accounts_after  \n",
       "0                      0                  0  \n",
       "1                      3                  6  \n",
       "2                      0                  1  \n",
       "3                      2                 13  \n",
       "4                      3                260  \n",
       "5                      0                  1  \n",
       "6                      1                 63  \n",
       "7                      1                345  \n",
       "8                      1                 69  \n",
       "9                      0                 15  \n",
       "10                     0                 14  \n",
       "11                     0                  6  \n",
       "12                    11                424  \n",
       "13                     0                 18  \n",
       "14                     0                  4  \n",
       "15                     9                507  \n",
       "16                     3                103  \n",
       "17                     2                115  \n",
       "18                     0                 31  \n",
       "19                     0                  0  \n",
       "20                     0                 67  \n",
       "21                     0                126  \n",
       "22                     0                  2  \n",
       "23                     6                710  \n",
       "24                    10                725  \n",
       "25                    20                735  \n",
       "26                    11                902  \n",
       "27                     6                924  \n",
       "28                     0                125  \n",
       "29                     0                 17  \n",
       "30                     9                230  \n",
       "31                     7               1004  \n",
       "32                    15               1029  \n",
       "33                    10               1110  \n",
       "34                     0                 90  \n",
       "35                     2                174  \n",
       "36                     0                  6  \n",
       "37                     0                  3  \n",
       "38                     0                 37  \n",
       "39                     0                  3  \n",
       "40                    12               1554  \n",
       "41                     1                396  \n",
       "42                     0                 75  "
      ]
     },
     "execution_count": 34,
     "metadata": {},
     "output_type": "execute_result"
    }
   ],
   "source": [
    "df_camp_client"
   ]
  },
  {
   "cell_type": "code",
   "execution_count": 35,
   "metadata": {},
   "outputs": [
    {
     "name": "stdout",
     "output_type": "stream",
     "text": [
      "during campaigns  145 new clients registered\n"
     ]
    }
   ],
   "source": [
    "print('during campaigns ', df_camp_client['no_accounts_increase'].sum(), 'new clients registered')"
   ]
  },
  {
   "cell_type": "code",
   "execution_count": 36,
   "metadata": {},
   "outputs": [
    {
     "name": "stdout",
     "output_type": "stream",
     "text": [
      "So from 5000 accounts that the website has, only  2.9000000000000004 % are through campaigns\n"
     ]
    }
   ],
   "source": [
    "print('So from 5000 accounts that the website has, only ',(df_camp_client['no_accounts_increase'].sum()/5000)*100, '% are through campaigns')"
   ]
  },
  {
   "cell_type": "code",
   "execution_count": 37,
   "metadata": {},
   "outputs": [
    {
     "data": {
      "text/html": [
       "<div>\n",
       "<style scoped>\n",
       "    .dataframe tbody tr th:only-of-type {\n",
       "        vertical-align: middle;\n",
       "    }\n",
       "\n",
       "    .dataframe tbody tr th {\n",
       "        vertical-align: top;\n",
       "    }\n",
       "\n",
       "    .dataframe thead th {\n",
       "        text-align: right;\n",
       "    }\n",
       "</style>\n",
       "<table border=\"1\" class=\"dataframe\">\n",
       "  <thead>\n",
       "    <tr style=\"text-align: right;\">\n",
       "      <th></th>\n",
       "      <th>country</th>\n",
       "      <th>no_accounts_increase</th>\n",
       "    </tr>\n",
       "  </thead>\n",
       "  <tbody>\n",
       "    <tr>\n",
       "      <td>7</td>\n",
       "      <td>id</td>\n",
       "      <td>124</td>\n",
       "    </tr>\n",
       "    <tr>\n",
       "      <td>0</td>\n",
       "      <td>br</td>\n",
       "      <td>12</td>\n",
       "    </tr>\n",
       "    <tr>\n",
       "      <td>16</td>\n",
       "      <td>ru</td>\n",
       "      <td>5</td>\n",
       "    </tr>\n",
       "    <tr>\n",
       "      <td>13</td>\n",
       "      <td>ng</td>\n",
       "      <td>4</td>\n",
       "    </tr>\n",
       "    <tr>\n",
       "      <td>1</td>\n",
       "      <td>ca</td>\n",
       "      <td>0</td>\n",
       "    </tr>\n",
       "    <tr>\n",
       "      <td>2</td>\n",
       "      <td>co</td>\n",
       "      <td>0</td>\n",
       "    </tr>\n",
       "  </tbody>\n",
       "</table>\n",
       "</div>"
      ],
      "text/plain": [
       "   country  no_accounts_increase\n",
       "7       id                   124\n",
       "0       br                    12\n",
       "16      ru                     5\n",
       "13      ng                     4\n",
       "1       ca                     0\n",
       "2       co                     0"
      ]
     },
     "execution_count": 37,
     "metadata": {},
     "output_type": "execute_result"
    }
   ],
   "source": [
    "df_camp_clients_by_country = df_camp_client.groupby('country').agg({'no_accounts_increase':'sum'}).reset_index()\n",
    "df_camp_clients_by_country.nlargest(6,'no_accounts_increase')"
   ]
  },
  {
   "cell_type": "markdown",
   "metadata": {},
   "source": [
    "Conclusion: maybe these campaigns werent intended to increase the number of clients because only 145 new clients joined. Maybe this campaign was to increase the profit generated."
   ]
  },
  {
   "cell_type": "markdown",
   "metadata": {},
   "source": [
    "### Does the number of days a campaign last, affect the number of clients that joined?"
   ]
  },
  {
   "cell_type": "code",
   "execution_count": 38,
   "metadata": {},
   "outputs": [],
   "source": [
    "# Doing this because type = timedelta cannot be used in correlation function as it is not a numeric value\n",
    "# you can access timedelta days by using .days, this code below converts it to numeric days and sets it back to the column\n",
    "df_camp_client['no_of_days'] = df_camp_client['no_of_days'].apply(lambda x: x.days)"
   ]
  },
  {
   "cell_type": "code",
   "execution_count": 39,
   "metadata": {},
   "outputs": [
    {
     "data": {
      "text/plain": [
       "0.22714525691863602"
      ]
     },
     "execution_count": 39,
     "metadata": {},
     "output_type": "execute_result"
    }
   ],
   "source": [
    "df_camp_client['no_of_days'].corr(df_camp_client['no_accounts_increase'])"
   ]
  },
  {
   "cell_type": "code",
   "execution_count": 40,
   "metadata": {},
   "outputs": [
    {
     "data": {
      "image/png": "[encoded data removed]",
      "text/plain": [
       "<Figure size 432x288 with 1 Axes>"
      ]
     },
     "metadata": {
      "needs_background": "light"
     },
     "output_type": "display_data"
    }
   ],
   "source": [
    "# Reflects the 0.22 pos correlation, so no real significant pattern can be seen\n",
    "df_camp_client.plot.scatter(x='no_of_days', y='no_accounts_increase');"
   ]
  },
  {
   "cell_type": "markdown",
   "metadata": {},
   "source": [
    "The visualisation above shows that the no of days a campaign lasts does not really have an impact in the number of accounts increase"
   ]
  },
  {
   "cell_type": "code",
   "execution_count": 41,
   "metadata": {},
   "outputs": [
    {
     "data": {
      "text/plain": [
       "-0.016020241840569664"
      ]
     },
     "execution_count": 41,
     "metadata": {},
     "output_type": "execute_result"
    }
   ],
   "source": [
    "df_client['indication_coupon'].corr(df_camp_client['no_accounts_increase'])"
   ]
  },
  {
   "cell_type": "markdown",
   "metadata": {},
   "source": [
    "# 2.  Profit"
   ]
  },
  {
   "cell_type": "markdown",
   "metadata": {},
   "source": [
    "### 2.1 Total Profit"
   ]
  },
  {
   "cell_type": "markdown",
   "metadata": {},
   "source": [
    "To calculate the total profit earned globally:\n",
    "1. Revenue was calculated\n",
    "2. 1% of that amount was taken into consideration\n",
    "3. The total amount of money spent on campaigns (expenditure) was subtracted from the revenue and that's the profit"
   ]
  },
  {
   "cell_type": "markdown",
   "metadata": {},
   "source": [
    "The total profit the company earned the whole year was 255684.30"
   ]
  },
  {
   "cell_type": "markdown",
   "metadata": {},
   "source": [
    "#### The total revenue generated in the whole year:"
   ]
  },
  {
   "cell_type": "code",
   "execution_count": 42,
   "metadata": {},
   "outputs": [
    {
     "data": {
      "text/plain": [
       "77189298.38"
      ]
     },
     "execution_count": 42,
     "metadata": {},
     "output_type": "execute_result"
    }
   ],
   "source": [
    "totalbought = df_tran['total_buy'].sum()\n",
    "totalbought"
   ]
  },
  {
   "cell_type": "markdown",
   "metadata": {},
   "source": [
    "#### The company makes a profit by selling the data by roughly 1% of the total clients that have bought an item"
   ]
  },
  {
   "cell_type": "code",
   "execution_count": 43,
   "metadata": {},
   "outputs": [
    {
     "data": {
      "text/plain": [
       "771892.9837999999"
      ]
     },
     "execution_count": 43,
     "metadata": {},
     "output_type": "execute_result"
    }
   ],
   "source": [
    "onePercent = (totalbought/100)*1\n",
    "onePercent"
   ]
  },
  {
   "cell_type": "markdown",
   "metadata": {},
   "source": [
    "#### But we also have to account in for the total amount of expenditure (In our case, it's the amount of money spent on campaigns)"
   ]
  },
  {
   "cell_type": "code",
   "execution_count": 44,
   "metadata": {},
   "outputs": [
    {
     "data": {
      "text/plain": [
       "516208.68"
      ]
     },
     "execution_count": 44,
     "metadata": {},
     "output_type": "execute_result"
    }
   ],
   "source": [
    "year_campaign_spend = df_camps['total_spend'].sum()\n",
    "year_campaign_spend"
   ]
  },
  {
   "cell_type": "markdown",
   "metadata": {},
   "source": [
    "#### Final profit"
   ]
  },
  {
   "cell_type": "code",
   "execution_count": 45,
   "metadata": {},
   "outputs": [
    {
     "data": {
      "text/plain": [
       "255684.30379999994"
      ]
     },
     "execution_count": 45,
     "metadata": {},
     "output_type": "execute_result"
    }
   ],
   "source": [
    "profit = onePercent - year_campaign_spend\n",
    "profit"
   ]
  },
  {
   "cell_type": "markdown",
   "metadata": {},
   "source": [
    "### 2.2  Profit by countries "
   ]
  },
  {
   "cell_type": "markdown",
   "metadata": {},
   "source": [
    "To calculate the profit earned per country:\n",
    "1. The transactions table was joined with the clients table\n",
    "2. The revenue was totalled based on the country\n",
    "3. 1% of that amount was taken into consideration\n",
    "4. The countries that had campaigns in them, their spending was subtracted from that 1% and thats the profit the country made"
   ]
  },
  {
   "cell_type": "code",
   "execution_count": 46,
   "metadata": {
    "scrolled": true
   },
   "outputs": [
    {
     "data": {
      "text/html": [
       "<div>\n",
       "<style scoped>\n",
       "    .dataframe tbody tr th:only-of-type {\n",
       "        vertical-align: middle;\n",
       "    }\n",
       "\n",
       "    .dataframe tbody tr th {\n",
       "        vertical-align: top;\n",
       "    }\n",
       "\n",
       "    .dataframe thead th {\n",
       "        text-align: right;\n",
       "    }\n",
       "</style>\n",
       "<table border=\"1\" class=\"dataframe\">\n",
       "  <thead>\n",
       "    <tr style=\"text-align: right;\">\n",
       "      <th></th>\n",
       "      <th>transaction_date</th>\n",
       "      <th>account</th>\n",
       "      <th>total_buy</th>\n",
       "      <th>total_sell</th>\n",
       "      <th>total_deposits</th>\n",
       "      <th>total_withdrawals</th>\n",
       "      <th>count_contracts</th>\n",
       "      <th>count_deposits</th>\n",
       "      <th>count_withdrawals</th>\n",
       "    </tr>\n",
       "  </thead>\n",
       "  <tbody>\n",
       "    <tr>\n",
       "      <td>0</td>\n",
       "      <td>2018-05-25</td>\n",
       "      <td>1093</td>\n",
       "      <td>0.0</td>\n",
       "      <td>0.0</td>\n",
       "      <td>0.0</td>\n",
       "      <td>3.15</td>\n",
       "      <td>0</td>\n",
       "      <td>0</td>\n",
       "      <td>1</td>\n",
       "    </tr>\n",
       "    <tr>\n",
       "      <td>1</td>\n",
       "      <td>2017-03-18</td>\n",
       "      <td>1093</td>\n",
       "      <td>7.5</td>\n",
       "      <td>6.5</td>\n",
       "      <td>100.0</td>\n",
       "      <td>0.00</td>\n",
       "      <td>72</td>\n",
       "      <td>1</td>\n",
       "      <td>0</td>\n",
       "    </tr>\n",
       "  </tbody>\n",
       "</table>\n",
       "</div>"
      ],
      "text/plain": [
       "  transaction_date  account  total_buy  total_sell  total_deposits  \\\n",
       "0       2018-05-25     1093        0.0         0.0             0.0   \n",
       "1       2017-03-18     1093        7.5         6.5           100.0   \n",
       "\n",
       "   total_withdrawals  count_contracts  count_deposits  count_withdrawals  \n",
       "0               3.15                0               0                  1  \n",
       "1               0.00               72               1                  0  "
      ]
     },
     "execution_count": 46,
     "metadata": {},
     "output_type": "execute_result"
    }
   ],
   "source": [
    "df_tran.head(2)"
   ]
  },
  {
   "cell_type": "code",
   "execution_count": 47,
   "metadata": {
    "scrolled": true
   },
   "outputs": [
    {
     "data": {
      "text/html": [
       "<div>\n",
       "<style scoped>\n",
       "    .dataframe tbody tr th:only-of-type {\n",
       "        vertical-align: middle;\n",
       "    }\n",
       "\n",
       "    .dataframe tbody tr th {\n",
       "        vertical-align: top;\n",
       "    }\n",
       "\n",
       "    .dataframe thead th {\n",
       "        text-align: right;\n",
       "    }\n",
       "</style>\n",
       "<table border=\"1\" class=\"dataframe\">\n",
       "  <thead>\n",
       "    <tr style=\"text-align: right;\">\n",
       "      <th></th>\n",
       "      <th>account</th>\n",
       "      <th>type</th>\n",
       "      <th>residence</th>\n",
       "      <th>date_joined</th>\n",
       "      <th>indication_coupon</th>\n",
       "      <th>first_deposit_amount</th>\n",
       "      <th>first_deposit_date</th>\n",
       "      <th>first_transaction_amount</th>\n",
       "      <th>first_transaction_date</th>\n",
       "      <th>balance_amount</th>\n",
       "    </tr>\n",
       "  </thead>\n",
       "  <tbody>\n",
       "    <tr>\n",
       "      <td>1097</td>\n",
       "      <td>2755</td>\n",
       "      <td>type_6</td>\n",
       "      <td>it</td>\n",
       "      <td>2017-01-01</td>\n",
       "      <td>308</td>\n",
       "      <td>9090.91</td>\n",
       "      <td>2017-01-01</td>\n",
       "      <td>0.000</td>\n",
       "      <td>NaT</td>\n",
       "      <td>-90909.09</td>\n",
       "    </tr>\n",
       "    <tr>\n",
       "      <td>1673</td>\n",
       "      <td>1001</td>\n",
       "      <td>type_1</td>\n",
       "      <td>vn</td>\n",
       "      <td>2017-01-01</td>\n",
       "      <td>308</td>\n",
       "      <td>110.00</td>\n",
       "      <td>2017-01-04</td>\n",
       "      <td>0.191</td>\n",
       "      <td>2017-01-04</td>\n",
       "      <td>104.18</td>\n",
       "    </tr>\n",
       "  </tbody>\n",
       "</table>\n",
       "</div>"
      ],
      "text/plain": [
       "      account    type residence date_joined  indication_coupon  \\\n",
       "1097     2755  type_6        it  2017-01-01                308   \n",
       "1673     1001  type_1        vn  2017-01-01                308   \n",
       "\n",
       "      first_deposit_amount first_deposit_date  first_transaction_amount  \\\n",
       "1097               9090.91         2017-01-01                     0.000   \n",
       "1673                110.00         2017-01-04                     0.191   \n",
       "\n",
       "     first_transaction_date  balance_amount  \n",
       "1097                    NaT       -90909.09  \n",
       "1673             2017-01-04          104.18  "
      ]
     },
     "execution_count": 47,
     "metadata": {},
     "output_type": "execute_result"
    }
   ],
   "source": [
    "df_client.head(2)"
   ]
  },
  {
   "cell_type": "code",
   "execution_count": 48,
   "metadata": {
    "scrolled": true
   },
   "outputs": [
    {
     "data": {
      "text/html": [
       "<div>\n",
       "<style scoped>\n",
       "    .dataframe tbody tr th:only-of-type {\n",
       "        vertical-align: middle;\n",
       "    }\n",
       "\n",
       "    .dataframe tbody tr th {\n",
       "        vertical-align: top;\n",
       "    }\n",
       "\n",
       "    .dataframe thead th {\n",
       "        text-align: right;\n",
       "    }\n",
       "</style>\n",
       "<table border=\"1\" class=\"dataframe\">\n",
       "  <thead>\n",
       "    <tr style=\"text-align: right;\">\n",
       "      <th></th>\n",
       "      <th>transaction_date</th>\n",
       "      <th>account</th>\n",
       "      <th>total_buy</th>\n",
       "      <th>total_sell</th>\n",
       "      <th>total_deposits</th>\n",
       "      <th>total_withdrawals</th>\n",
       "      <th>count_contracts</th>\n",
       "      <th>count_deposits</th>\n",
       "      <th>count_withdrawals</th>\n",
       "      <th>type</th>\n",
       "      <th>residence</th>\n",
       "      <th>date_joined</th>\n",
       "      <th>indication_coupon</th>\n",
       "      <th>first_deposit_amount</th>\n",
       "      <th>first_deposit_date</th>\n",
       "      <th>first_transaction_amount</th>\n",
       "      <th>first_transaction_date</th>\n",
       "      <th>balance_amount</th>\n",
       "    </tr>\n",
       "  </thead>\n",
       "  <tbody>\n",
       "    <tr>\n",
       "      <td>0</td>\n",
       "      <td>2018-05-25</td>\n",
       "      <td>1093</td>\n",
       "      <td>0.0</td>\n",
       "      <td>0.0</td>\n",
       "      <td>0.0</td>\n",
       "      <td>3.15</td>\n",
       "      <td>0</td>\n",
       "      <td>0</td>\n",
       "      <td>1</td>\n",
       "      <td>type_1</td>\n",
       "      <td>ru</td>\n",
       "      <td>2017-03-17</td>\n",
       "      <td>13</td>\n",
       "      <td>500.0</td>\n",
       "      <td>2017-03-17</td>\n",
       "      <td>0.522903</td>\n",
       "      <td>2017-03-17</td>\n",
       "      <td>1085.73</td>\n",
       "    </tr>\n",
       "    <tr>\n",
       "      <td>1</td>\n",
       "      <td>2017-03-18</td>\n",
       "      <td>1093</td>\n",
       "      <td>7.5</td>\n",
       "      <td>6.5</td>\n",
       "      <td>100.0</td>\n",
       "      <td>0.00</td>\n",
       "      <td>72</td>\n",
       "      <td>1</td>\n",
       "      <td>0</td>\n",
       "      <td>type_1</td>\n",
       "      <td>ru</td>\n",
       "      <td>2017-03-17</td>\n",
       "      <td>13</td>\n",
       "      <td>500.0</td>\n",
       "      <td>2017-03-17</td>\n",
       "      <td>0.522903</td>\n",
       "      <td>2017-03-17</td>\n",
       "      <td>1085.73</td>\n",
       "    </tr>\n",
       "  </tbody>\n",
       "</table>\n",
       "</div>"
      ],
      "text/plain": [
       "  transaction_date  account  total_buy  total_sell  total_deposits  \\\n",
       "0       2018-05-25     1093        0.0         0.0             0.0   \n",
       "1       2017-03-18     1093        7.5         6.5           100.0   \n",
       "\n",
       "   total_withdrawals  count_contracts  count_deposits  count_withdrawals  \\\n",
       "0               3.15                0               0                  1   \n",
       "1               0.00               72               1                  0   \n",
       "\n",
       "     type residence date_joined  indication_coupon  first_deposit_amount  \\\n",
       "0  type_1        ru  2017-03-17                 13                 500.0   \n",
       "1  type_1        ru  2017-03-17                 13                 500.0   \n",
       "\n",
       "  first_deposit_date  first_transaction_amount first_transaction_date  \\\n",
       "0         2017-03-17                  0.522903             2017-03-17   \n",
       "1         2017-03-17                  0.522903             2017-03-17   \n",
       "\n",
       "   balance_amount  \n",
       "0         1085.73  \n",
       "1         1085.73  "
      ]
     },
     "execution_count": 48,
     "metadata": {},
     "output_type": "execute_result"
    }
   ],
   "source": [
    "df_tran_client = pd.merge(left=df_tran,right=df_client, how='left', left_on='account', right_on='account')\n",
    "\n",
    "df_tran_client.head(2)"
   ]
  },
  {
   "cell_type": "code",
   "execution_count": 49,
   "metadata": {},
   "outputs": [
    {
     "name": "stdout",
     "output_type": "stream",
     "text": [
      "<class 'pandas.core.frame.DataFrame'>\n",
      "Int64Index: 36747 entries, 0 to 36746\n",
      "Data columns (total 18 columns):\n",
      "transaction_date            36747 non-null datetime64[ns]\n",
      "account                     36747 non-null int64\n",
      "total_buy                   36747 non-null float64\n",
      "total_sell                  36747 non-null float64\n",
      "total_deposits              36747 non-null float64\n",
      "total_withdrawals           36747 non-null float64\n",
      "count_contracts             36747 non-null int64\n",
      "count_deposits              36747 non-null int64\n",
      "count_withdrawals           36747 non-null int64\n",
      "type                        36747 non-null object\n",
      "residence                   36747 non-null object\n",
      "date_joined                 36747 non-null datetime64[ns]\n",
      "indication_coupon           36747 non-null int64\n",
      "first_deposit_amount        36747 non-null float64\n",
      "first_deposit_date          36743 non-null datetime64[ns]\n",
      "first_transaction_amount    36747 non-null float64\n",
      "first_transaction_date      35212 non-null datetime64[ns]\n",
      "balance_amount              36747 non-null float64\n",
      "dtypes: datetime64[ns](4), float64(7), int64(5), object(2)\n",
      "memory usage: 5.0+ MB\n"
     ]
    }
   ],
   "source": [
    "df_tran_client.info()"
   ]
  },
  {
   "cell_type": "code",
   "execution_count": 50,
   "metadata": {},
   "outputs": [
    {
     "data": {
      "text/plain": [
       "137"
      ]
     },
     "execution_count": 50,
     "metadata": {},
     "output_type": "execute_result"
    }
   ],
   "source": [
    "df_client['residence'].nunique()"
   ]
  },
  {
   "cell_type": "code",
   "execution_count": 51,
   "metadata": {},
   "outputs": [
    {
     "data": {
      "text/plain": [
       "130"
      ]
     },
     "execution_count": 51,
     "metadata": {},
     "output_type": "execute_result"
    }
   ],
   "source": [
    "len(df_tran_client['residence'].unique())"
   ]
  },
  {
   "cell_type": "code",
   "execution_count": 52,
   "metadata": {},
   "outputs": [
    {
     "data": {
      "text/plain": [
       "residence\n",
       "id    48342021.31\n",
       "ng     3640249.68\n",
       "br     3074899.40\n",
       "gb     2440897.59\n",
       "vn     2234566.03\n",
       "Name: total_buy, dtype: float64"
      ]
     },
     "execution_count": 52,
     "metadata": {},
     "output_type": "execute_result"
    }
   ],
   "source": [
    "revenue = df_tran_client.groupby(['residence']).total_buy.sum()\n",
    "revenue.nlargest()"
   ]
  },
  {
   "cell_type": "code",
   "execution_count": 53,
   "metadata": {},
   "outputs": [
    {
     "data": {
      "text/plain": [
       "<matplotlib.axes._subplots.AxesSubplot at 0xde7a750>"
      ]
     },
     "execution_count": 53,
     "metadata": {},
     "output_type": "execute_result"
    },
    {
     "data": {
      "image/png": "[encoded data removed]",
      "text/plain": [
       "<Figure size 432x288 with 1 Axes>"
      ]
     },
     "metadata": {
      "needs_background": "light"
     },
     "output_type": "display_data"
    }
   ],
   "source": [
    "revenue.nlargest().plot(kind='bar')"
   ]
  },
  {
   "cell_type": "code",
   "execution_count": 54,
   "metadata": {},
   "outputs": [
    {
     "data": {
      "text/plain": [
       "country\n",
       "id    184919.92\n",
       "br     47229.13\n",
       "ru     40109.58\n",
       "ng     35351.00\n",
       "ua     27302.04\n",
       "Name: total_spend, dtype: float64"
      ]
     },
     "execution_count": 54,
     "metadata": {},
     "output_type": "execute_result"
    }
   ],
   "source": [
    "camp_spend_country = df_camps.groupby(['country']).total_spend.sum()\n",
    "camp_spend_country.nlargest()"
   ]
  },
  {
   "cell_type": "code",
   "execution_count": 55,
   "metadata": {},
   "outputs": [
    {
     "data": {
      "text/plain": [
       "<matplotlib.axes._subplots.AxesSubplot at 0xda5c910>"
      ]
     },
     "execution_count": 55,
     "metadata": {},
     "output_type": "execute_result"
    },
    {
     "data": {
      "image/png": "[encoded data removed]",
      "text/plain": [
       "<Figure size 432x288 with 1 Axes>"
      ]
     },
     "metadata": {
      "needs_background": "light"
     },
     "output_type": "display_data"
    }
   ],
   "source": [
    "camp_spend_country.nlargest().plot(kind='bar')"
   ]
  },
  {
   "cell_type": "code",
   "execution_count": 56,
   "metadata": {},
   "outputs": [
    {
     "name": "stdout",
     "output_type": "stream",
     "text": [
      "id        298500.2931\n",
      "vn         22345.6603\n",
      "pk         13707.4353\n",
      "gb          7454.7659\n",
      "bo          7086.3447\n",
      "             ...     \n",
      "py        -16661.9300\n",
      "ru        -17786.4281\n",
      "ph        -18128.4879\n",
      "ua        -18640.0010\n",
      "global    -25001.3500\n",
      "Length: 131, dtype: float64\n"
     ]
    }
   ],
   "source": [
    "onePercent_country = revenue.apply(lambda x : (x/100)*1)\n",
    "profit_per_country = onePercent_country.sub(camp_spend_country, fill_value=0)\n",
    "print(profit_per_country.sort_values(ascending = False))"
   ]
  },
  {
   "cell_type": "code",
   "execution_count": 57,
   "metadata": {},
   "outputs": [
    {
     "data": {
      "text/html": [
       "<div>\n",
       "<style scoped>\n",
       "    .dataframe tbody tr th:only-of-type {\n",
       "        vertical-align: middle;\n",
       "    }\n",
       "\n",
       "    .dataframe tbody tr th {\n",
       "        vertical-align: top;\n",
       "    }\n",
       "\n",
       "    .dataframe thead th {\n",
       "        text-align: right;\n",
       "    }\n",
       "</style>\n",
       "<table border=\"1\" class=\"dataframe\">\n",
       "  <thead>\n",
       "    <tr style=\"text-align: right;\">\n",
       "      <th></th>\n",
       "      <th>0</th>\n",
       "    </tr>\n",
       "  </thead>\n",
       "  <tbody>\n",
       "    <tr>\n",
       "      <td>ae</td>\n",
       "      <td>115.1146</td>\n",
       "    </tr>\n",
       "    <tr>\n",
       "      <td>af</td>\n",
       "      <td>2844.5249</td>\n",
       "    </tr>\n",
       "    <tr>\n",
       "      <td>ag</td>\n",
       "      <td>1.5881</td>\n",
       "    </tr>\n",
       "    <tr>\n",
       "      <td>al</td>\n",
       "      <td>0.0109</td>\n",
       "    </tr>\n",
       "    <tr>\n",
       "      <td>am</td>\n",
       "      <td>4.5851</td>\n",
       "    </tr>\n",
       "    <tr>\n",
       "      <td>...</td>\n",
       "      <td>...</td>\n",
       "    </tr>\n",
       "    <tr>\n",
       "      <td>ve</td>\n",
       "      <td>414.9614</td>\n",
       "    </tr>\n",
       "    <tr>\n",
       "      <td>vn</td>\n",
       "      <td>22345.6603</td>\n",
       "    </tr>\n",
       "    <tr>\n",
       "      <td>za</td>\n",
       "      <td>1566.1388</td>\n",
       "    </tr>\n",
       "    <tr>\n",
       "      <td>zm</td>\n",
       "      <td>120.7230</td>\n",
       "    </tr>\n",
       "    <tr>\n",
       "      <td>zw</td>\n",
       "      <td>243.7848</td>\n",
       "    </tr>\n",
       "  </tbody>\n",
       "</table>\n",
       "<p>131 rows × 1 columns</p>\n",
       "</div>"
      ],
      "text/plain": [
       "             0\n",
       "ae    115.1146\n",
       "af   2844.5249\n",
       "ag      1.5881\n",
       "al      0.0109\n",
       "am      4.5851\n",
       "..         ...\n",
       "ve    414.9614\n",
       "vn  22345.6603\n",
       "za   1566.1388\n",
       "zm    120.7230\n",
       "zw    243.7848\n",
       "\n",
       "[131 rows x 1 columns]"
      ]
     },
     "execution_count": 57,
     "metadata": {},
     "output_type": "execute_result"
    }
   ],
   "source": [
    "pd.DataFrame(profit_per_country)"
   ]
  },
  {
   "cell_type": "code",
   "execution_count": 58,
   "metadata": {},
   "outputs": [
    {
     "data": {
      "text/plain": [
       "id    298500.2931\n",
       "vn     22345.6603\n",
       "pk     13707.4353\n",
       "gb      7454.7659\n",
       "bo      7086.3447\n",
       "eg      7010.3226\n",
       "nl      5248.7222\n",
       "bn      4028.7114\n",
       "gh      3934.3344\n",
       "lk      3725.7904\n",
       "dtype: float64"
      ]
     },
     "execution_count": 58,
     "metadata": {},
     "output_type": "execute_result"
    }
   ],
   "source": [
    "profit_per_country.nlargest(10)"
   ]
  },
  {
   "cell_type": "code",
   "execution_count": 59,
   "metadata": {},
   "outputs": [
    {
     "data": {
      "text/plain": [
       "<matplotlib.axes._subplots.AxesSubplot at 0xd9b5190>"
      ]
     },
     "execution_count": 59,
     "metadata": {},
     "output_type": "execute_result"
    },
    {
     "data": {
      "image/png": "[encoded data removed]",
      "text/plain": [
       "<Figure size 432x288 with 1 Axes>"
      ]
     },
     "metadata": {
      "needs_background": "light"
     },
     "output_type": "display_data"
    }
   ],
   "source": [
    "profit_per_country.nlargest().plot(kind='bar')"
   ]
  },
  {
   "cell_type": "markdown",
   "metadata": {},
   "source": [
    "However, not all countries made a profit. The visualisation below shows the top 5 countries that went through a loss:"
   ]
  },
  {
   "cell_type": "code",
   "execution_count": 60,
   "metadata": {},
   "outputs": [
    {
     "data": {
      "text/plain": [
       "<matplotlib.axes._subplots.AxesSubplot at 0xd9d6570>"
      ]
     },
     "execution_count": 60,
     "metadata": {},
     "output_type": "execute_result"
    },
    {
     "data": {
      "image/png": "[encoded data removed]",
      "text/plain": [
       "<Figure size 432x288 with 1 Axes>"
      ]
     },
     "metadata": {
      "needs_background": "light"
     },
     "output_type": "display_data"
    }
   ],
   "source": [
    "profit_per_country.nsmallest(n=5).plot(kind='barh')"
   ]
  },
  {
   "cell_type": "markdown",
   "metadata": {},
   "source": [
    "We can determine a few things from both the profit and loss visualisations. A few things to note here is that:\n",
    "1. Indonesia has had the most campaigns, about 14 of them so there seems to be a positive correlation between the number of campaigns and profit earned\n",
    "2. Besides Indonesia, only United Kingdom had a campaign in their country from the countries that earned a profit even though their campaign was just for a day. The profit earned may be due to their powerful currency\n",
    "3. Eventhough the company has made an overall profit of 255684.30 (as seen earlier), it has incurred a few losses in a few countries\n",
    "4. Amongst the top 10 countries that made a profit, most were in the Asian region (5/10), 2 of them in Europe, 2 of them in Africa and 1 in South America"
   ]
  },
  {
   "cell_type": "code",
   "execution_count": 61,
   "metadata": {},
   "outputs": [
    {
     "data": {
      "text/plain": [
       "0.019419082586086333"
      ]
     },
     "execution_count": 61,
     "metadata": {},
     "output_type": "execute_result"
    }
   ],
   "source": [
    "df_tran_client['indication_coupon'].corr(df_tran_client['total_buy'])"
   ]
  },
  {
   "cell_type": "code",
   "execution_count": null,
   "metadata": {},
   "outputs": [],
   "source": []
  }
 ],
 "metadata": {
  "kernelspec": {
   "display_name": "Python 3",
   "language": "python",
   "name": "python3"
  },
  "language_info": {
   "codemirror_mode": {
    "name": "ipython",
    "version": 3
   },
   "file_extension": ".py",
   "mimetype": "text/x-python",
   "name": "python",
   "nbconvert_exporter": "python",
   "pygments_lexer": "ipython3",
   "version": "3.7.4"
  }
 },
 "nbformat": 4,
 "nbformat_minor": 2
}
